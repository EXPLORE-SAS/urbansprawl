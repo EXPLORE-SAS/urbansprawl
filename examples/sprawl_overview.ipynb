{
 "cells": [
  {
   "cell_type": "code",
   "execution_count": 1,
   "metadata": {},
   "outputs": [],
   "source": [
    "# For graphs\n",
    "%matplotlib inline\n",
    "\n",
    "# snippet for relative imports\n",
    "import os\n",
    "import sys\n",
    "module_path = os.path.abspath(os.path.join('..'))\n",
    "if module_path not in sys.path:\n",
    "    sys.path.append(module_path)\n",
    "    \n",
    "import osmnx as ox\n",
    "import matplotlib.pyplot as plt\n",
    "from src.core import get_processed_osm_data, get_route_graph, get_indices_grid\n",
    "from src.osm.osm_tags import activity_classification\n",
    "from src.sprawl.utils import divide_long_edges_graph\n",
    "from src.sprawl.landusemix import compute_grid_landusemix\n",
    "from src.sprawl.accessibility import compute_grid_accessibility\n",
    "from src.sprawl.dispersion import compute_grid_dispersion\n",
    "\n",
    "ox.config(log_file=True,log_console=True, log_name='sprawl_overview', log_filename='sprawl_overview', use_cache=True)\n",
    "figsize = (8,6)"
   ]
  },
  {
   "cell_type": "code",
   "execution_count": 2,
   "metadata": {},
   "outputs": [],
   "source": [
    "%load_ext autoreload\n",
    "%autoreload 2"
   ]
  },
  {
   "cell_type": "markdown",
   "metadata": {},
   "source": [
    "# Process OpenStreetMap data\n",
    "* Advantages:\n",
    "    * World-wide coverage\n",
    "    * Homogeneity of data\n",
    "    * Open data\n",
    "    * Geo-localized data\n",
    "    * Crowd-sourced data: rapid updates\n",
    "    * Contains street network infrastructure, buildings and land use information\n",
    "* Disadvantages:\n",
    "    * Missing data"
   ]
  },
  {
   "cell_type": "markdown",
   "metadata": {},
   "source": [
    "### Get bounds for an input city"
   ]
  },
  {
   "cell_type": "code",
   "execution_count": 3,
   "metadata": {},
   "outputs": [
    {
     "data": {
      "image/svg+xml": [
       "<svg xmlns=\"http://www.w3.org/2000/svg\" xmlns:xlink=\"http://www.w3.org/1999/xlink\" width=\"100.0\" height=\"100.0\" viewBox=\"5.8415771439999995 45.125255444 0.15222481200000093 0.08451171200000118\" preserveAspectRatio=\"xMinYMin meet\"><g transform=\"matrix(1,0,0,-1,0,90.3350226)\"><path fill-rule=\"evenodd\" fill=\"#66cc99\" stroke=\"#555555\" stroke-width=\"0.003044496240000019\" opacity=\"0.6\" d=\"M 5.8472151,45.1952454 L 5.8482183,45.1946072 L 5.8485082,45.1944252 L 5.8502589,45.1935035 L 5.8503449,45.1932614 L 5.8505194,45.1927704 L 5.8506585,45.1922105 L 5.8513003,45.1913853 L 5.8521815,45.1904917 L 5.8530007,45.1896112 L 5.8531808,45.18895 L 5.8544648,45.1876283 L 5.8551,45.1875315 L 5.8552417,45.1874181 L 5.8557351,45.1870234 L 5.8568595,45.1863459 L 5.8579839,45.1857349 L 5.8596232,45.1847791 L 5.8597005,45.1842951 L 5.8600009,45.1837325 L 5.8603699,45.1829566 L 5.8608591,45.1825815 L 5.8616745,45.1823395 L 5.8623354,45.182158 L 5.8629791,45.1822609 L 5.8632616,45.1821621 L 5.8639662,45.1819281 L 5.8646271,45.1815772 L 5.8650562,45.1813836 L 5.8656828,45.1815046 L 5.8660862,45.1814441 L 5.866584,45.1813352 L 5.8667636,45.1813611 L 5.8675054,45.181543 L 5.8678515,45.1816554 L 5.8683028,45.1815222 L 5.8700521,45.1813812 L 5.8703833,45.1813095 L 5.8706719,45.1811202 L 5.8711458,45.1807581 L 5.8719578,45.1805374 L 5.8727053,45.1806772 L 5.8732707,45.1806389 L 5.8736723,45.1804683 L 5.8741979,45.1800002 L 5.8761628,45.1797698 L 5.8775189,45.178953 L 5.8783601,45.1784388 L 5.8793128,45.1777672 L 5.880051,45.1771864 L 5.8806346,45.1765208 L 5.8815087,45.1753976 L 5.8818239,45.1748072 L 5.8818854,45.1745483 L 5.8822602,45.1741162 L 5.882643,45.1735621 L 5.8828662,45.1727634 L 5.8829864,45.1721704 L 5.8831924,45.1716319 L 5.8833984,45.1713475 L 5.8836937,45.171098 L 5.8838922,45.1709626 L 5.8840659,45.1706651 L 5.8842633,45.1704588 L 5.8844162,45.1701708 L 5.8847344,45.1700234 L 5.8850626,45.1697342 L 5.8856129,45.1693025 L 5.885855,45.169091 L 5.8858443,45.1687425 L 5.8857415,45.1682977 L 5.8856557,45.1678197 L 5.8860591,45.16739 L 5.8861707,45.1670814 L 5.8862393,45.166797 L 5.8862136,45.1664157 L 5.8860505,45.1661555 L 5.8858789,45.1658771 L 5.8857844,45.1655806 L 5.8858359,45.1651812 L 5.8861449,45.1647758 L 5.8862393,45.1645034 L 5.8863509,45.1642008 L 5.8863338,45.1638983 L 5.8861964,45.1636683 L 5.8860591,45.1634081 L 5.8862308,45.1630934 L 5.8864024,45.1629118 L 5.8866428,45.1627 L 5.886823,45.1624761 L 5.8869277,45.1623065 L 5.8870435,45.1620572 L 5.8872752,45.1619218 L 5.8874118,45.1617866 L 5.8876593,45.161451 L 5.887861,45.1611874 L 5.8881239,45.1609975 L 5.8882823,45.1607532 L 5.8885168,45.1606281 L 5.8887691,45.1605069 L 5.8891101,45.1603581 L 5.8893757,45.1600964 L 5.8894796,45.1597983 L 5.889486,45.1596609 L 5.8895693,45.1594713 L 5.8897264,45.1592917 L 5.8898338,45.1591836 L 5.8899752,45.1587829 L 5.8901451,45.1586134 L 5.8904766,45.1583329 L 5.8910978,45.1578788 L 5.8912796,45.1578494 L 5.8913651,45.1577612 L 5.891448,45.1575687 L 5.891561,45.1574073 L 5.8917528,45.1570901 L 5.8919133,45.1569323 L 5.8921809,45.1565585 L 5.8923143,45.1563681 L 5.8926887,45.1561676 L 5.8929454,45.1557558 L 5.8931722,45.1555543 L 5.8932635,45.1555045 L 5.8932831,45.1554701 L 5.8934507,45.1550757 L 5.8937074,45.1548869 L 5.8939957,45.1547586 L 5.8942528,45.154681 L 5.8945389,45.1546837 L 5.8948315,45.1545481 L 5.8951058,45.1542639 L 5.8951815,45.153905 L 5.895445,45.1537854 L 5.895547,45.1534858 L 5.8958524,45.1533127 L 5.8959983,45.1532764 L 5.8964618,45.1531856 L 5.8968824,45.1531312 L 5.8972343,45.1531251 L 5.8976634,45.1530888 L 5.8978694,45.1528467 L 5.8981097,45.1525985 L 5.8983219,45.152489 L 5.8987234,45.1521347 L 5.8989785,45.1518293 L 5.8991388,45.1517005 L 5.8992711,45.1516041 L 5.8994678,45.1513497 L 5.8995935,45.1512607 L 5.899757,45.1511087 L 5.900055,45.1509692 L 5.9003156,45.1507947 L 5.9006756,45.1507117 L 5.9011073,45.1503761 L 5.901361,45.1501508 L 5.9016374,45.149923 L 5.9018691,45.1498476 L 5.9020978,45.1497239 L 5.9027746,45.1494343 L 5.9031932,45.1490666 L 5.9035992,45.1488701 L 5.903926,45.1488256 L 5.9043802,45.1486872 L 5.9048856,45.1485019 L 5.9053419,45.1484483 L 5.9057939,45.1483867 L 5.9062907,45.1483648 L 5.9067949,45.148326 L 5.9070037,45.1483619 L 5.9073683,45.148408 L 5.9078782,45.1481587 L 5.9083393,45.1479512 L 5.9085259,45.1477639 L 5.9085828,45.1475937 L 5.9086521,45.1473821 L 5.9088088,45.1472146 L 5.9089539,45.1470506 L 5.9092108,45.1468703 L 5.909542,45.1467387 L 5.9098475,45.1465713 L 5.9104026,45.1464581 L 5.9111487,45.1467076 L 5.9116094,45.1465779 L 5.9121896,45.1464583 L 5.9125911,45.1463502 L 5.912814,45.1462455 L 5.9130756,45.1462129 L 5.9133846,45.1461683 L 5.9138585,45.1462519 L 5.9141488,45.1462796 L 5.9143268,45.1461966 L 5.9144429,45.1460255 L 5.9145425,45.1458015 L 5.9146224,45.1457281 L 5.9147401,45.1457146 L 5.9149428,45.1456972 L 5.9151317,45.1456895 L 5.915307,45.1456354 L 5.9154165,45.1455524 L 5.9155094,45.1454641 L 5.9156657,45.1453109 L 5.9160525,45.144309 L 5.9165064,45.1433118 L 5.9174454,45.1412836 L 5.9155145,45.1371265 L 5.9151172,45.1338437 L 5.9148828,45.1319069 L 5.9227294,45.1313707 L 5.930888,45.1308934 L 5.9328205,45.1330729 L 5.9337682,45.1343312 L 5.9345111,45.1348797 L 5.9359971,45.135841 L 5.9368844,45.1368884 L 5.9371499,45.1378268 L 5.9384259,45.1382905 L 5.9373811,45.1400569 L 5.9375666,45.1407941 L 5.9386557,45.141429 L 5.9391351,45.1416371 L 5.939968,45.1420901 L 5.9412635,45.1422893 L 5.9441031,45.142936 L 5.9459726,45.1431775 L 5.9468803,45.1433309 L 5.9482912,45.14351 L 5.9527989,45.1434029 L 5.9538598,45.1432955 L 5.9550977,45.1434756 L 5.9564677,45.1435211 L 5.95716,45.1441131 L 5.9574587,45.1450446 L 5.9574922,45.1467346 L 5.9555971,45.1492055 L 5.9551835,45.1502296 L 5.9552157,45.1505567 L 5.9558627,45.1519754 L 5.9571112,45.1536951 L 5.9579094,45.1550585 L 5.9592652,45.1566214 L 5.9604413,45.1580878 L 5.963299,45.1594662 L 5.96776,45.1612033 L 5.968773,45.1616176 L 5.9695445,45.1620202 L 5.9718629,45.1625755 L 5.9746865,45.1639999 L 5.9754033,45.1642965 L 5.9758953,45.164487 L 5.9764976,45.1645813 L 5.9771507,45.165024 L 5.9774811,45.1651886 L 5.978566,45.1655559 L 5.9793889,45.1659212 L 5.9798796,45.1660911 L 5.9808287,45.1663804 L 5.9814317,45.166485 L 5.9824979,45.1670176 L 5.9828315,45.1672335 L 5.983648,45.167496 L 5.9846294,45.1678357 L 5.9860674,45.168264 L 5.9870582,45.1685211 L 5.988164,45.1686291 L 5.9803097,45.1685474 L 5.9722748,45.1680064 L 5.9634305,45.1673152 L 5.9477605,45.1661676 L 5.9438136,45.1649213 L 5.9349386,45.1670526 L 5.9323719,45.1687052 L 5.9231774,45.1707196 L 5.9229613,45.1715443 L 5.9216905,45.174022 L 5.9206069,45.175664 L 5.9191262,45.1770969 L 5.9187228,45.1774418 L 5.918244,45.178134 L 5.9182007,45.1784363 L 5.9168554,45.1797147 L 5.9161126,45.1804709 L 5.9158742,45.1812499 L 5.9157798,45.1821067 L 5.9160143,45.1831503 L 5.9159733,45.1836167 L 5.9150598,45.1842414 L 5.9141248,45.1851459 L 5.9134184,45.1861199 L 5.9131877,45.186521 L 5.9128303,45.1872545 L 5.9124659,45.1881249 L 5.9117396,45.1891543 L 5.9108132,45.189949 L 5.9108293,45.1903371 L 5.909526,45.1910448 L 5.9075509,45.1919045 L 5.9061874,45.1923896 L 5.9047356,45.1926968 L 5.9031306,45.1930306 L 5.9008389,45.1939054 L 5.8990096,45.1946236 L 5.8981824,45.1952729 L 5.8974793,45.195672 L 5.8952219,45.1981382 L 5.8952016,45.1981604 L 5.8924828,45.1982712 L 5.8867099,45.1987557 L 5.8831407,45.1979897 L 5.8808169,45.1974636 L 5.8800658,45.1975077 L 5.8792824,45.1973539 L 5.8790738,45.1975593 L 5.8781474,45.1973671 L 5.8773913,45.1976602 L 5.8766662,45.1978031 L 5.8758701,45.1979339 L 5.8753436,45.1978717 L 5.8729667,45.1984556 L 5.8718981,45.1984028 L 5.8712641,45.1985571 L 5.8707417,45.1983953 L 5.8706276,45.1986688 L 5.8692266,45.1991022 L 5.8684356,45.1993181 L 5.8674371,45.1997605 L 5.8671445,45.199883 L 5.8668925,45.2000613 L 5.8650952,45.200592 L 5.8647206,45.2010439 L 5.8647701,45.2011988 L 5.8647917,45.2015534 L 5.8643786,45.2025324 L 5.8644095,45.2035406 L 5.8637592,45.2029279 L 5.8636669,45.2027317 L 5.862583,45.201599 L 5.8613723,45.2026875 L 5.8604387,45.2037035 L 5.8602328,45.2037187 L 5.8602136,45.2036981 L 5.8601142,45.2037053 L 5.8599645,45.2037705 L 5.8598639,45.2038568 L 5.8597725,45.2038963 L 5.8594609,45.2039904 L 5.8593147,45.2040145 L 5.8590402,45.2040547 L 5.8586831,45.2040714 L 5.8586272,45.2040791 L 5.8584305,45.2039974 L 5.8582432,45.2037917 L 5.8581916,45.2036837 L 5.858143,45.2036732 L 5.8580514,45.2036979 L 5.8577383,45.2039286 L 5.8574277,45.2040616 L 5.8569722,45.2041292 L 5.8563278,45.204057 L 5.8559245,45.2039157 L 5.8554387,45.2037629 L 5.8553243,45.2036428 L 5.8551019,45.2034524 L 5.854678,45.2034048 L 5.8543064,45.2033202 L 5.8538283,45.2031206 L 5.8536238,45.2030987 L 5.8535178,45.2031244 L 5.853463,45.2031194 L 5.8529369,45.2030715 L 5.8524537,45.2026394 L 5.8524697,45.2026066 L 5.8527892,45.2019533 L 5.8528834,45.2018074 L 5.8525665,45.2015592 L 5.8524572,45.2014737 L 5.8517159,45.2009629 L 5.8513352,45.2006905 L 5.8507391,45.2002292 L 5.8505748,45.2001091 L 5.8500525,45.1997272 L 5.8499043,45.1994849 L 5.8498239,45.1992798 L 5.8498337,45.1991994 L 5.8502109,45.1987287 L 5.8503363,45.1985835 L 5.8504141,45.1984933 L 5.8506425,45.198278 L 5.8507392,45.1981327 L 5.8507043,45.1980581 L 5.8506104,45.1980111 L 5.8504822,45.198097 L 5.8503878,45.1981244 L 5.8502763,45.1980674 L 5.8501509,45.1979128 L 5.8497261,45.1979246 L 5.8492884,45.1980322 L 5.8492566,45.1981246 L 5.8492174,45.1981824 L 5.8491823,45.1982645 L 5.8490602,45.1983852 L 5.848857,45.1984658 L 5.8486474,45.1985306 L 5.8485004,45.19857 L 5.8485497,45.1986354 L 5.8484659,45.1986572 L 5.8481778,45.1986751 L 5.8480245,45.1986392 L 5.8478719,45.198329 L 5.8479471,45.1982053 L 5.8492245,45.1967096 L 5.8472151,45.1952454 z\" /></g></svg>"
      ],
      "text/plain": [
       "<shapely.geometry.polygon.Polygon at 0x7f39822c82b0>"
      ]
     },
     "execution_count": 3,
     "metadata": {},
     "output_type": "execute_result"
    }
   ],
   "source": [
    "city_ref = \"revel grenoble\"\n",
    "# Get shape for city\n",
    "city_poly = ox.gdf_from_place(city_ref, which_result=1)\n",
    "west, south, east, north = city_poly.geometry[0].bounds\n",
    "city_poly.geometry[0]"
   ]
  },
  {
   "cell_type": "markdown",
   "metadata": {},
   "source": [
    "## Process OSM data for region of interest\n",
    "* Buildings and points associated with an activity or residential land use are retrieved"
   ]
  },
  {
   "cell_type": "code",
   "execution_count": 4,
   "metadata": {},
   "outputs": [],
   "source": [
    "# Retrieve OSM data\n",
    "region_args = {\"north\":north, \"south\":south, \"west\":west, \"east\":east}\n",
    "region_args = {\"place\":\"revel grenoble\"}\n",
    "df_osm_built, df_osm_building_parts, df_osm_pois = get_processed_osm_data(city_ref, region_args)"
   ]
  },
  {
   "cell_type": "markdown",
   "metadata": {},
   "source": [
    "### Output\n",
    "* df_osm_built: Buildings\n",
    "* df_osm_buiding_parts: Building parts\n",
    "* df_osm_pois: Points of Interest (POIs)\n",
    "\n",
    "### Coordinate reference system\n",
    "* The geometries are projected to UTM coordinates using the most appropriate zone\n",
    "* crs: Attribute that denotes the coordinate reference system of the geometries\n",
    "\n",
    "### Characteristics\n",
    "* geometry: Geometries associated to buildings/points of interest\n",
    "* osm_id: OpenStreetMap identification\n",
    "* height_tags: OSM tags corresponding to a building's height: http://wiki.openstreetmap.org/wiki/Key:building:levels\n",
    "* classification: Land use classification: 'activity', 'residential', or 'mixed' \n",
    "* key_value: OpenStreetMap tags which define their land use: http://wiki.openstreetmap.org/wiki/Map_Features\n",
    "* activity_type: For activity land uses, define their type of activity; 'commercial/industrial', 'leisure/amenity', or 'shop'\n",
    "* containing_parts: Indices corresponding to the containing building parts\n",
    "* containing_poi: Indices corresponding to the containing Points of Interest\n",
    "* activity_category: Specific activity categories corresponding to input land use\n",
    "* building_levels: Effective number of building levels\n",
    "* landuses_m2: Building's area associated to each land use"
   ]
  },
  {
   "cell_type": "code",
   "execution_count": 5,
   "metadata": {},
   "outputs": [
    {
     "data": {
      "text/plain": [
       "{'datum': 'NAD83', 'ellps': 'GRS80', 'proj': 'utm', 'units': 'm', 'zone': 31}"
      ]
     },
     "execution_count": 5,
     "metadata": {},
     "output_type": "execute_result"
    }
   ],
   "source": [
    "df_osm_built.crs"
   ]
  },
  {
   "cell_type": "code",
   "execution_count": 6,
   "metadata": {},
   "outputs": [
    {
     "data": {
      "text/html": [
       "<div>\n",
       "<style scoped>\n",
       "    .dataframe tbody tr th:only-of-type {\n",
       "        vertical-align: middle;\n",
       "    }\n",
       "\n",
       "    .dataframe tbody tr th {\n",
       "        vertical-align: top;\n",
       "    }\n",
       "\n",
       "    .dataframe thead th {\n",
       "        text-align: right;\n",
       "    }\n",
       "</style>\n",
       "<table border=\"1\" class=\"dataframe\">\n",
       "  <thead>\n",
       "    <tr style=\"text-align: right;\">\n",
       "      <th></th>\n",
       "      <th>geometry</th>\n",
       "      <th>osm_id</th>\n",
       "      <th>height_tags</th>\n",
       "      <th>classification</th>\n",
       "      <th>key_value</th>\n",
       "      <th>containing_parts</th>\n",
       "      <th>containing_poi</th>\n",
       "      <th>activity_category</th>\n",
       "      <th>building_levels</th>\n",
       "      <th>landuses_m2</th>\n",
       "    </tr>\n",
       "    <tr>\n",
       "      <th></th>\n",
       "      <th></th>\n",
       "      <th></th>\n",
       "      <th></th>\n",
       "      <th></th>\n",
       "      <th></th>\n",
       "      <th></th>\n",
       "      <th></th>\n",
       "      <th></th>\n",
       "      <th></th>\n",
       "      <th></th>\n",
       "    </tr>\n",
       "  </thead>\n",
       "  <tbody>\n",
       "    <tr>\n",
       "      <th>0</th>\n",
       "      <td>POLYGON ((725385.5091685458 5007578.054305969,...</td>\n",
       "      <td>52062252</td>\n",
       "      <td>{}</td>\n",
       "      <td>activity</td>\n",
       "      <td>{'building': 'church'}</td>\n",
       "      <td>NaN</td>\n",
       "      <td>NaN</td>\n",
       "      <td>[leisure/amenity]</td>\n",
       "      <td>1.0</td>\n",
       "      <td>{'activity': 365.36029210883174, 'residential'...</td>\n",
       "    </tr>\n",
       "    <tr>\n",
       "      <th>1</th>\n",
       "      <td>POLYGON ((725394.3275105597 5007549.937271655,...</td>\n",
       "      <td>52062253</td>\n",
       "      <td>{}</td>\n",
       "      <td>residential</td>\n",
       "      <td>{'inferred': None}</td>\n",
       "      <td>NaN</td>\n",
       "      <td>NaN</td>\n",
       "      <td>NaN</td>\n",
       "      <td>1.0</td>\n",
       "      <td>{'activity': 0, 'residential': 220.98228912060...</td>\n",
       "    </tr>\n",
       "    <tr>\n",
       "      <th>2</th>\n",
       "      <td>POLYGON ((725373.4622373369 5007555.824841923,...</td>\n",
       "      <td>52062254</td>\n",
       "      <td>{}</td>\n",
       "      <td>residential</td>\n",
       "      <td>{'inferred': None}</td>\n",
       "      <td>NaN</td>\n",
       "      <td>NaN</td>\n",
       "      <td>NaN</td>\n",
       "      <td>1.0</td>\n",
       "      <td>{'activity': 0, 'residential': 60.652245357674...</td>\n",
       "    </tr>\n",
       "    <tr>\n",
       "      <th>3</th>\n",
       "      <td>POLYGON ((725370.7087842945 5007557.384295615,...</td>\n",
       "      <td>52062255</td>\n",
       "      <td>{}</td>\n",
       "      <td>residential</td>\n",
       "      <td>{'inferred': None}</td>\n",
       "      <td>NaN</td>\n",
       "      <td>NaN</td>\n",
       "      <td>NaN</td>\n",
       "      <td>1.0</td>\n",
       "      <td>{'activity': 0, 'residential': 119.52178158236...</td>\n",
       "    </tr>\n",
       "    <tr>\n",
       "      <th>4</th>\n",
       "      <td>POLYGON ((725369.7608290961 5007539.353490922,...</td>\n",
       "      <td>52062256</td>\n",
       "      <td>{}</td>\n",
       "      <td>residential</td>\n",
       "      <td>{'inferred': None}</td>\n",
       "      <td>NaN</td>\n",
       "      <td>NaN</td>\n",
       "      <td>NaN</td>\n",
       "      <td>1.0</td>\n",
       "      <td>{'activity': 0, 'residential': 23.075692083925...</td>\n",
       "    </tr>\n",
       "  </tbody>\n",
       "</table>\n",
       "</div>"
      ],
      "text/plain": [
       "                                            geometry    osm_id height_tags  \\\n",
       "                                                                             \n",
       "0  POLYGON ((725385.5091685458 5007578.054305969,...  52062252          {}   \n",
       "1  POLYGON ((725394.3275105597 5007549.937271655,...  52062253          {}   \n",
       "2  POLYGON ((725373.4622373369 5007555.824841923,...  52062254          {}   \n",
       "3  POLYGON ((725370.7087842945 5007557.384295615,...  52062255          {}   \n",
       "4  POLYGON ((725369.7608290961 5007539.353490922,...  52062256          {}   \n",
       "\n",
       "  classification               key_value  containing_parts containing_poi  \\\n",
       "                                                                            \n",
       "0       activity  {'building': 'church'}               NaN            NaN   \n",
       "1    residential      {'inferred': None}               NaN            NaN   \n",
       "2    residential      {'inferred': None}               NaN            NaN   \n",
       "3    residential      {'inferred': None}               NaN            NaN   \n",
       "4    residential      {'inferred': None}               NaN            NaN   \n",
       "\n",
       "   activity_category  building_levels  \\\n",
       "                                        \n",
       "0  [leisure/amenity]              1.0   \n",
       "1                NaN              1.0   \n",
       "2                NaN              1.0   \n",
       "3                NaN              1.0   \n",
       "4                NaN              1.0   \n",
       "\n",
       "                                         landuses_m2  \n",
       "                                                      \n",
       "0  {'activity': 365.36029210883174, 'residential'...  \n",
       "1  {'activity': 0, 'residential': 220.98228912060...  \n",
       "2  {'activity': 0, 'residential': 60.652245357674...  \n",
       "3  {'activity': 0, 'residential': 119.52178158236...  \n",
       "4  {'activity': 0, 'residential': 23.075692083925...  "
      ]
     },
     "execution_count": 6,
     "metadata": {},
     "output_type": "execute_result"
    }
   ],
   "source": [
    "df_osm_built.head()"
   ]
  },
  {
   "cell_type": "code",
   "execution_count": 7,
   "metadata": {},
   "outputs": [
    {
     "data": {
      "text/html": [
       "<div>\n",
       "<style scoped>\n",
       "    .dataframe tbody tr th:only-of-type {\n",
       "        vertical-align: middle;\n",
       "    }\n",
       "\n",
       "    .dataframe tbody tr th {\n",
       "        vertical-align: top;\n",
       "    }\n",
       "\n",
       "    .dataframe thead th {\n",
       "        text-align: right;\n",
       "    }\n",
       "</style>\n",
       "<table border=\"1\" class=\"dataframe\">\n",
       "  <thead>\n",
       "    <tr style=\"text-align: right;\">\n",
       "      <th></th>\n",
       "      <th>geometry</th>\n",
       "      <th>osm_id</th>\n",
       "      <th>height_tags</th>\n",
       "      <th>classification</th>\n",
       "      <th>key_value</th>\n",
       "      <th>activity_category</th>\n",
       "      <th>building_levels</th>\n",
       "    </tr>\n",
       "    <tr>\n",
       "      <th></th>\n",
       "      <th></th>\n",
       "      <th></th>\n",
       "      <th></th>\n",
       "      <th></th>\n",
       "      <th></th>\n",
       "      <th></th>\n",
       "      <th></th>\n",
       "    </tr>\n",
       "  </thead>\n",
       "  <tbody>\n",
       "    <tr>\n",
       "      <th>0</th>\n",
       "      <td>POINT (166021.4430805354 0)</td>\n",
       "      <td>0</td>\n",
       "      <td>{}</td>\n",
       "      <td>None</td>\n",
       "      <td>{}</td>\n",
       "      <td>NaN</td>\n",
       "      <td>1</td>\n",
       "    </tr>\n",
       "  </tbody>\n",
       "</table>\n",
       "</div>"
      ],
      "text/plain": [
       "                      geometry  osm_id height_tags classification key_value  \\\n",
       "                                                                              \n",
       "0  POINT (166021.4430805354 0)       0          {}           None        {}   \n",
       "\n",
       "  activity_category  building_levels  \n",
       "                                      \n",
       "0               NaN                1  "
      ]
     },
     "execution_count": 7,
     "metadata": {},
     "output_type": "execute_result"
    }
   ],
   "source": [
    "df_osm_building_parts.head()"
   ]
  },
  {
   "cell_type": "code",
   "execution_count": 8,
   "metadata": {},
   "outputs": [
    {
     "data": {
      "text/html": [
       "<div>\n",
       "<style scoped>\n",
       "    .dataframe tbody tr th:only-of-type {\n",
       "        vertical-align: middle;\n",
       "    }\n",
       "\n",
       "    .dataframe tbody tr th {\n",
       "        vertical-align: top;\n",
       "    }\n",
       "\n",
       "    .dataframe thead th {\n",
       "        text-align: right;\n",
       "    }\n",
       "</style>\n",
       "<table border=\"1\" class=\"dataframe\">\n",
       "  <thead>\n",
       "    <tr style=\"text-align: right;\">\n",
       "      <th></th>\n",
       "      <th>geometry</th>\n",
       "      <th>osm_id</th>\n",
       "      <th>classification</th>\n",
       "      <th>key_value</th>\n",
       "      <th>activity_category</th>\n",
       "    </tr>\n",
       "    <tr>\n",
       "      <th></th>\n",
       "      <th></th>\n",
       "      <th></th>\n",
       "      <th></th>\n",
       "      <th></th>\n",
       "      <th></th>\n",
       "    </tr>\n",
       "  </thead>\n",
       "  <tbody>\n",
       "    <tr>\n",
       "      <th>0</th>\n",
       "      <td>POINT (725054.1815183578 5007947.414281795)</td>\n",
       "      <td>1761991954</td>\n",
       "      <td>activity</td>\n",
       "      <td>{'shop': 'bakery'}</td>\n",
       "      <td>[shop]</td>\n",
       "    </tr>\n",
       "    <tr>\n",
       "      <th>1</th>\n",
       "      <td>POINT (725313.2050208307 5007525.619591202)</td>\n",
       "      <td>2114556995</td>\n",
       "      <td>activity</td>\n",
       "      <td>{'amenity': 'kindergarten'}</td>\n",
       "      <td>[leisure/amenity]</td>\n",
       "    </tr>\n",
       "    <tr>\n",
       "      <th>2</th>\n",
       "      <td>POINT (725279.2452922666 5007504.213332486)</td>\n",
       "      <td>2114556996</td>\n",
       "      <td>activity</td>\n",
       "      <td>{'amenity': 'school'}</td>\n",
       "      <td>[leisure/amenity]</td>\n",
       "    </tr>\n",
       "    <tr>\n",
       "      <th>3</th>\n",
       "      <td>POINT (725365.9214380718 5007594.031433413)</td>\n",
       "      <td>4195282817</td>\n",
       "      <td>activity</td>\n",
       "      <td>{'amenity': 'pub'}</td>\n",
       "      <td>[leisure/amenity]</td>\n",
       "    </tr>\n",
       "  </tbody>\n",
       "</table>\n",
       "</div>"
      ],
      "text/plain": [
       "                                      geometry      osm_id classification  \\\n",
       "                                                                            \n",
       "0  POINT (725054.1815183578 5007947.414281795)  1761991954       activity   \n",
       "1  POINT (725313.2050208307 5007525.619591202)  2114556995       activity   \n",
       "2  POINT (725279.2452922666 5007504.213332486)  2114556996       activity   \n",
       "3  POINT (725365.9214380718 5007594.031433413)  4195282817       activity   \n",
       "\n",
       "                     key_value  activity_category  \n",
       "                                                   \n",
       "0           {'shop': 'bakery'}             [shop]  \n",
       "1  {'amenity': 'kindergarten'}  [leisure/amenity]  \n",
       "2        {'amenity': 'school'}  [leisure/amenity]  \n",
       "3           {'amenity': 'pub'}  [leisure/amenity]  "
      ]
     },
     "execution_count": 8,
     "metadata": {},
     "output_type": "execute_result"
    }
   ],
   "source": [
    "df_osm_pois.head()"
   ]
  },
  {
   "cell_type": "markdown",
   "metadata": {},
   "source": [
    "## Street network is retrieved"
   ]
  },
  {
   "cell_type": "code",
   "execution_count": null,
   "metadata": {},
   "outputs": [
    {
     "data": {
      "image/png": "[encoded data removed]",
      "text/plain": [
       "<matplotlib.figure.Figure at 0x7f392aa13e80>"
      ]
     },
     "metadata": {},
     "output_type": "display_data"
    }
   ],
   "source": [
    "G = get_route_graph(city_ref)\n",
    "f, ax = ox.plot_graph(G, fig_height=figsize[1], fig_width=figsize[0])\n",
    "f.tight_layout()"
   ]
  },
  {
   "cell_type": "markdown",
   "metadata": {},
   "source": [
    "# Urban sprawl indices\n",
    "* Spatial indices are calculated in a regular grid"
   ]
  },
  {
   "cell_type": "code",
   "execution_count": null,
   "metadata": {},
   "outputs": [],
   "source": [
    "# Step in meters\n",
    "step = 100\n",
    "df_indices = get_indices_grid(df_osm_built, df_osm_building_parts, df_osm_pois, step=step)"
   ]
  },
  {
   "cell_type": "markdown",
   "metadata": {},
   "source": [
    "# Land use mix"
   ]
  },
  {
   "cell_type": "markdown",
   "metadata": {
    "collapsed": true
   },
   "source": [
    "## Buildings\n",
    "* Locations of residential and activity uses are retrieved\n",
    "    * Red: Activity uses\n",
    "    * Blue: Residential uses\n",
    "    * Green: Mixed-uses"
   ]
  },
  {
   "cell_type": "code",
   "execution_count": null,
   "metadata": {},
   "outputs": [],
   "source": [
    "# Get buildings per classification\n",
    "df_residential = df_osm_built[ df_osm_built.classification.isin([\"residential\"]) ]\n",
    "df_activities = df_osm_built[ df_osm_built.classification.isin([\"activity\"]) ]\n",
    "df_mixed = df_osm_built[ df_osm_built.classification.isin([\"mixed\"]) ]\n",
    "\n",
    "# Plot\n",
    "f, ax = ox.plot_graph(G, fig_height=figsize[1], fig_width=figsize[0], edge_alpha=0.15, node_alpha=0, show=False, close=False)\n",
    "# Buildings\n",
    "df_residential.plot(figsize=figsize, color=\"blue\", ax=ax)\n",
    "df_activities.plot(figsize=figsize, color=\"red\", ax=ax)\n",
    "df_mixed.plot(figsize=figsize, color=\"green\", ax=ax)\n",
    "ax.get_xaxis().set_visible(False);ax.get_yaxis().set_visible(False)\n",
    "f.tight_layout()"
   ]
  },
  {
   "cell_type": "markdown",
   "metadata": {},
   "source": [
    "* Points of Interest (POIs) mostly correspond to activity uses"
   ]
  },
  {
   "cell_type": "code",
   "execution_count": null,
   "metadata": {},
   "outputs": [],
   "source": [
    "# Get POIs per classification\n",
    "df_pois_activities = df_osm_pois[ df_osm_pois.classification.isin([\"activity\"]) ]\n",
    "df_pois_residential = df_osm_pois[ df_osm_pois.classification.isin([\"residential\"]) ]\n",
    "df_pois_mixed = df_osm_pois[ df_osm_pois.classification.isin([\"mixed\"]) ]\n",
    "\n",
    "# Plot\n",
    "f, ax = ox.plot_graph(G, fig_height=figsize[1], fig_width=figsize[0], edge_alpha=0.2, node_alpha=0, show=False, close=False)\n",
    "# Points of Interest\n",
    "df_pois_activities.plot(figsize=figsize, color=\"red\", ax=ax, alpha=0.6, markersize=10)\n",
    "if (not df_pois_residential.empty):\n",
    "    df_pois_residential.plot(figsize=figsize, color=\"blue\", ax=ax, alpha=0.6, markersize=10)\n",
    "if (not df_pois_mixed.empty):\n",
    "    df_pois_mixed.plot(figsize=figsize, color=\"green\", ax=ax, alpha=0.6, markersize=10)\n",
    "ax.get_xaxis().set_visible(False);ax.get_yaxis().set_visible(False)\n",
    "f.tight_layout()"
   ]
  },
  {
   "cell_type": "markdown",
   "metadata": {},
   "source": [
    "* Indices computation"
   ]
  },
  {
   "cell_type": "code",
   "execution_count": null,
   "metadata": {},
   "outputs": [],
   "source": [
    "landusemix_args = {'walkable_distance': 600, 'compute_activity_types_kde': True, 'weighted_kde': True, \n",
    "                   'pois_weight': 9, 'log_weighted': True}\n",
    "%time compute_grid_landusemix(df_indices, df_osm_built, df_osm_pois, landusemix_args)"
   ]
  },
  {
   "cell_type": "markdown",
   "metadata": {},
   "source": [
    "* Densities associated to these land usages are estimated"
   ]
  },
  {
   "cell_type": "code",
   "execution_count": null,
   "metadata": {},
   "outputs": [],
   "source": [
    "fig, axs = plt.subplots(1,2, figsize=(figsize[0] * 2, figsize[1]))\n",
    "# Title\n",
    "axs[0].set_title(\"Activities\"); axs[1].set_title(\"Residential\")\n",
    "axs[0].get_xaxis().set_visible(False);axs[0].get_yaxis().set_visible(False)\n",
    "axs[1].get_xaxis().set_visible(False);axs[1].get_yaxis().set_visible(False)\n",
    "# Plots\n",
    "df_indices.plot(\"activity_pdf\", figsize=figsize, cmap='jet', ax=axs[0])\n",
    "df_indices.plot(\"residential_pdf\",figsize=figsize, cmap='jet', ax=axs[1])\n",
    "fig.tight_layout()"
   ]
  },
  {
   "cell_type": "markdown",
   "metadata": {},
   "source": [
    "* Activities land uses can be further classified"
   ]
  },
  {
   "cell_type": "code",
   "execution_count": null,
   "metadata": {},
   "outputs": [],
   "source": [
    "fig, axs = plt.subplots(1, len(activity_classification), figsize=(figsize[0] * 2, figsize[1]) )\n",
    "for activity, ax_ in zip( activity_classification, axs ):\n",
    "    ax_.set_title(activity); ax_.get_xaxis().set_visible(False);ax_.get_yaxis().set_visible(False)\n",
    "    df_indices.plot(activity+\"_pdf\",figsize=figsize, cmap='jet', legend=False, ax=ax_)\n",
    "fig.tight_layout()"
   ]
  },
  {
   "cell_type": "markdown",
   "metadata": {},
   "source": [
    "* Land use mix indices\n",
    "    * Land use mix (color): Degree of co-occurence of differing land usages within 'walkable' distances\n",
    "    * Land use intensity (bubbles): Intensity of usage within a local context. The higher the intensity, the higher the desire of acquiring good uses mixture"
   ]
  },
  {
   "cell_type": "code",
   "execution_count": null,
   "metadata": {},
   "outputs": [],
   "source": [
    "f, ax = ox.plot_graph(G, fig_height=figsize[1], fig_width=figsize[0], close=False, show=False, edge_color='black', edge_alpha=0.3, node_alpha=0.1)\n",
    "df_indices.plot(\"landusemix\", markersize=50*df_indices.landuse_intensity, figsize=figsize, cmap=\"jet\", legend=True, ax=ax)\n",
    "f.tight_layout()"
   ]
  },
  {
   "cell_type": "markdown",
   "metadata": {},
   "source": [
    "# Accesssibility"
   ]
  },
  {
   "cell_type": "markdown",
   "metadata": {},
   "source": [
    "### Street network is used\n",
    "* Edges (roads) are cut, creating new nodes (road intersections) for its later processing"
   ]
  },
  {
   "cell_type": "code",
   "execution_count": null,
   "metadata": {},
   "outputs": [],
   "source": [
    "# Max edge length of 200 meters\n",
    "max_edge_length = 200\n",
    "divide_long_edges_graph(G, max_edge_length)\n",
    "f, ax = ox.plot_graph(G, fig_height=figsize[1], fig_width=figsize[0])\n",
    "f.tight_layout()"
   ]
  },
  {
   "cell_type": "markdown",
   "metadata": {},
   "source": [
    "* Accessibility indices are calculated\n",
    "    * Fixed distance: Denotes the cumulative opportunities access to activity land uses given a fixed maximum distance to travel\n",
    "    * Fixed activities: Represents the distance needed to travel in order to reach a certain number of activity land uses"
   ]
  },
  {
   "cell_type": "code",
   "execution_count": null,
   "metadata": {},
   "outputs": [],
   "source": [
    "accessibility_args = {'fixed_distance': True, 'fixed_activities': False, 'max_edge_length': 200, \n",
    "                      'max_node_distance': 250, 'fixed_distance_max_travel_distance': 2000, \n",
    "                      'fixed_distance_max_num_activities': 250, 'fixed_activities_min_number': 20}\n",
    "%time compute_grid_accessibility(df_indices, G, df_osm_built, df_osm_pois, accessibility_args)\n",
    "\n",
    "### Plot\n",
    "f, ax = ox.plot_graph(G, fig_height=figsize[1], fig_width=figsize[0], close=False, show=False, edge_color='black', edge_alpha=0.3, node_alpha=0.1)\n",
    "df_indices.plot(\"accessibility\", figsize=figsize, cmap='jet', legend=True, ax=ax)\n",
    "f.tight_layout()"
   ]
  },
  {
   "cell_type": "markdown",
   "metadata": {},
   "source": [
    "# Dispersion"
   ]
  },
  {
   "cell_type": "markdown",
   "metadata": {
    "collapsed": true
   },
   "source": [
    "* Dispersion indices are calculated:\n",
    "    * Dispersion: \"A landscape suffers from urban sprawl if it is permeated by urban development or solitary buildings [...]. The more area built over and the more dispersed the built-up area, [...] the higher the degree of urban sprawl\" **(Jaeger and Schwick 2014)**\n",
    "    * For each building, the distance (meters) to their nearest neighboring building is computed\n",
    "    * The mean or median of these distances within a local radius are computed"
   ]
  },
  {
   "cell_type": "code",
   "execution_count": null,
   "metadata": {},
   "outputs": [],
   "source": [
    "dispersion_args = {'radius_search': 750, 'use_median': False, 'K_nearest': 50}\n",
    "%time compute_grid_dispersion(df_indices, df_osm_built, dispersion_args)\n",
    "\n",
    "### Plot\n",
    "f, ax = ox.plot_graph(G, fig_height=figsize[1], fig_width=figsize[0], close=False, show=False, edge_color='black', edge_alpha=0.3, node_alpha=0.1)\n",
    "df_indices.plot('dispersion', figsize=figsize, cmap='jet', legend=True, vmax=10, ax=ax)\n",
    "f.tight_layout()"
   ]
  }
 ],
 "metadata": {
  "anaconda-cloud": {},
  "kernelspec": {
   "display_name": "Python 3",
   "language": "python",
   "name": "python3"
  },
  "language_info": {
   "codemirror_mode": {
    "name": "ipython",
    "version": 3
   },
   "file_extension": ".py",
   "mimetype": "text/x-python",
   "name": "python",
   "nbconvert_exporter": "python",
   "pygments_lexer": "ipython3",
   "version": "3.6.3"
  },
  "name": "overview.ipynb"
 },
 "nbformat": 4,
 "nbformat_minor": 1
}
