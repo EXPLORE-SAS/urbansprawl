{
 "cells": [
  {
   "cell_type": "markdown",
   "metadata": {},
   "source": [
    "# Population downscaling: Machine learning approach\n",
    "* End-to-end framework for computing disaggregated population mapping using convolutional neural networks (CNNs).\n",
    "* Using urban data extracted from the OpenStreetMap database, a set of urban features are generated which are used to perform population density estimates at a higher resolution."
   ]
  },
  {
   "cell_type": "code",
   "execution_count": 1,
   "metadata": {},
   "outputs": [
    {
     "name": "stderr",
     "output_type": "stream",
     "text": [
      "/home/steep/anaconda3/lib/python3.6/site-packages/h5py/__init__.py:36: FutureWarning: Conversion of the second argument of issubdtype from `float` to `np.floating` is deprecated. In future, it will be treated as `np.float64 == np.dtype(float).type`.\n",
      "  from ._conv import register_converters as _register_converters\n",
      "Using TensorFlow backend.\n"
     ]
    },
    {
     "data": {
      "text/plain": [
       "'1.5.0'"
      ]
     },
     "execution_count": 1,
     "metadata": {},
     "output_type": "execute_result"
    }
   ],
   "source": [
    "import os\n",
    "import sys\n",
    "module_path = os.path.abspath(os.path.join('..'))\n",
    "if module_path not in sys.path:\n",
    "    sys.path.append(module_path)\n",
    "\n",
    "import pandas as pd\n",
    "import numpy as np\n",
    "from math import sqrt\n",
    "from sklearn.metrics import mean_squared_error\n",
    "from matplotlib import pyplot\n",
    "from src.population.urban_features import get_Y_X_features_population_data\n",
    "\n",
    "from keras import backend as K\n",
    "from keras import optimizers\n",
    "from keras.models import Sequential\n",
    "from keras.layers import Activation, Flatten, Conv1D\n",
    "\n",
    "import tensorflow\n",
    "tensorflow.__version__"
   ]
  },
  {
   "cell_type": "markdown",
   "metadata": {},
   "source": [
    "## Urban features\n",
    "* Load stored urban features and gridded population data (see \"population_osm_cities.ipynb\")"
   ]
  },
  {
   "cell_type": "code",
   "execution_count": 2,
   "metadata": {},
   "outputs": [
    {
     "name": "stdout",
     "output_type": "stream",
     "text": [
      "Validation data shape: (10068, 25) (10068, 25, 20)\n",
      "Training data shape: (86904, 25) (86904, 25, 20)\n"
     ]
    }
   ],
   "source": [
    "city_sel = \"Lyon\"\n",
    "\n",
    "# Validation data\n",
    "Y_test, X_test, X_columns = get_Y_X_features_population_data(cities_selection=[city_sel])\n",
    "# Shape\n",
    "print( \"Validation data shape:\", Y_test.shape, X_test.shape )\n",
    "\n",
    "# Training data\n",
    "Y_train, X_train, X_columns = get_Y_X_features_population_data(cities_skip=[city_sel])\n",
    "# Shape\n",
    "print( \"Training data shape:\", Y_train.shape, X_train.shape )"
   ]
  },
  {
   "cell_type": "markdown",
   "metadata": {},
   "source": [
    "## Population mapping\n",
    "\n",
    "* Context: Available data\n",
    "    * GPW data: resolution of 1km by 1km; world-wide coverage\n",
    "    * INSEE data: (higher) resolution of 200m by 200m; limited coverage (France)\n",
    "    * One square-grid of GPW's resolution is equivalent to 25 squares of INSEE's resolution\n",
    "\n",
    "* Goal: Perform population density estimates at a higher resolution than available population-count data\n",
    "    * Distribute population densities from an input square-resolution (GPW resolution) into 25-finer squares (INSEE resolution)\n",
    "    * Model: $f(X_{1}, X_{2}, ... , X_{N})$ $=$ $< Y_{1}, Y_{2}, ... , Y_{N} >$\n",
    "        * $X_{i}$ : Set of urban features associated to square $i$\n",
    "        * $Y_{i}$ : Estimated population density associated to square $i$\n",
    "        * $\\sum_{i=1}^{N} Y_{i} = 1$\n",
    "        \n",
    "    * Actual estimated population: $Y_{i}$ * P\n",
    "        * $Y_{i}$ : Estimated population density\n",
    "        * P : Population count available in coarse-grained resolution\n",
    "    * The actual population count can be retrieved by multiplying the estimated population-density at the fine-grid square by the total population count available in the coarse-grained square\n",
    "\n",
    "* Training and validation:\n",
    "    * Usage of INSEE's data as ground-truth, where 25-aggregated squares are equivalent to one GPW's square resolution\n",
    "\n",
    "\n",
    "## Urban features\n",
    "\n",
    "* Available urban features for each input square using INSEE resolution (population count data exist):\n",
    "    * M² total residential usage\n",
    "    * M² total activity usage\n",
    "    * M² footprint residential usage\n",
    "    * M² footprint activity usage\n",
    "    * M² footprint mixed usage\n",
    "    * Number of residential buildings\n",
    "    * Number of activity buildings\n",
    "    * Number of mixed buildings\n",
    "    * Number of actvity POIs\n",
    "    * Total number of building levels\n",
    "    * Total number of buildings\n",
    "    * Buildings built-up footprint relation [0%; 100%]\n",
    "    * Sprawling indices: Dispersion\n",
    "    * Sprawling indices: Land use mix\n",
    "    * Densities estimation: Residential use\n",
    "    * Densities estimation: Activity use\n",
    "    * Densities estimation: Land use intensity (Residential + Activity)\n",
    "    * Densities estimation: Commercial/industrial activity type use\n",
    "    * Densities estimation: Shop activity type use\n",
    "    * Densities estimation: Leisure/amenity activity type use\n",
    "\n",
    "## Fully convolutional neural networks (CNNs)\n",
    "* Input: Each sample consists of 25 aggregated squares (N=25)\n",
    "    * Urban features: $<X_{1}, X_{2}, ... , X_{N}>$\n",
    "    * Ground-truth: $<Y_{1}, Y_{2}, ... , Y_{N}>$\n",
    "        * INSEE data associated to $Y_{i}$\n",
    "* Fully convolutional architecture\n",
    "* Usage of Rectified Linear Units (ReLU) activation functions\n",
    "* Output layer: Soft-max activation function\n",
    "    * Associates population densities to each input square"
   ]
  },
  {
   "cell_type": "code",
   "execution_count": 3,
   "metadata": {},
   "outputs": [],
   "source": [
    "epochs = 25\n",
    "batch_size = 128\n",
    "\n",
    "_, input_shape_x, input_shape_y = X_train.shape\n",
    "input_shape = (input_shape_x, input_shape_y)"
   ]
  },
  {
   "cell_type": "code",
   "execution_count": 4,
   "metadata": {},
   "outputs": [
    {
     "name": "stdout",
     "output_type": "stream",
     "text": [
      "WARNING:tensorflow:From /home/steep/anaconda3/lib/python3.6/site-packages/keras/backend/tensorflow_backend.py:1255: calling reduce_prod (from tensorflow.python.ops.math_ops) with keep_dims is deprecated and will be removed in a future version.\n",
      "Instructions for updating:\n",
      "keep_dims is deprecated, use keepdims instead\n",
      "WARNING:tensorflow:From /home/steep/anaconda3/lib/python3.6/site-packages/keras/backend/tensorflow_backend.py:1340: calling reduce_mean (from tensorflow.python.ops.math_ops) with keep_dims is deprecated and will be removed in a future version.\n",
      "Instructions for updating:\n",
      "keep_dims is deprecated, use keepdims instead\n",
      "Input: (None, 25, 20) Output: (None, 25)\n",
      "_________________________________________________________________\n",
      "Layer (type)                 Output Shape              Param #   \n",
      "=================================================================\n",
      "conv1d_1 (Conv1D)            (None, 25, 200)           4200      \n",
      "_________________________________________________________________\n",
      "activation_1 (Activation)    (None, 25, 200)           0         \n",
      "_________________________________________________________________\n",
      "conv1d_2 (Conv1D)            (None, 25, 25)            5025      \n",
      "_________________________________________________________________\n",
      "activation_2 (Activation)    (None, 25, 25)            0         \n",
      "_________________________________________________________________\n",
      "conv1d_3 (Conv1D)            (None, 25, 1)             26        \n",
      "_________________________________________________________________\n",
      "activation_3 (Activation)    (None, 25, 1)             0         \n",
      "_________________________________________________________________\n",
      "flatten_1 (Flatten)          (None, 25)                0         \n",
      "_________________________________________________________________\n",
      "activation_4 (Activation)    (None, 25)                0         \n",
      "=================================================================\n",
      "Total params: 9,251\n",
      "Trainable params: 9,251\n",
      "Non-trainable params: 0\n",
      "_________________________________________________________________\n"
     ]
    }
   ],
   "source": [
    "model = Sequential()\n",
    "\n",
    "# First layer: Input shape correspondent to X values\n",
    "model.add(Conv1D(filters=25*8, kernel_size=1, strides=1, input_shape=input_shape  ) )\n",
    "model.add(Activation('relu'))\n",
    "\n",
    "model.add(Conv1D(filters=25*1, kernel_size=1, strides=1 ) )\n",
    "model.add(Activation('relu'))\n",
    "\n",
    "model.add(Conv1D(filters=1, kernel_size=1, strides=1 ) )\n",
    "model.add(Activation('relu'))\n",
    "\n",
    "# Flatten (1,25) to (25)\n",
    "model.add(Flatten())\n",
    "\n",
    "# Force densities to sum 1\n",
    "model.add(Activation('softmax'))\n",
    "\n",
    "# Optimizer\n",
    "optim = optimizers.SGD(lr=0.25, decay=1e-6, momentum=0.9, nesterov=True)\n",
    "\n",
    "# Compile\n",
    "model.compile(loss='mean_absolute_error', optimizer=optim, metrics=['mae'])\n",
    "\n",
    "# Model shape\n",
    "print( \"Input:\", model.input_shape, \"Output:\", model.output_shape )\n",
    "model.summary()"
   ]
  },
  {
   "cell_type": "markdown",
   "metadata": {},
   "source": [
    "## Train the model\n",
    "* The city of Lyon is used for the model validation"
   ]
  },
  {
   "cell_type": "code",
   "execution_count": 5,
   "metadata": {},
   "outputs": [
    {
     "name": "stdout",
     "output_type": "stream",
     "text": [
      "Train on 86904 samples, validate on 10068 samples\n",
      "Epoch 1/25\n",
      "86904/86904 [==============================] - 11s 122us/step - loss: 0.0254 - mean_absolute_error: 0.0254 - val_loss: 0.0203 - val_mean_absolute_error: 0.0203\n",
      "Epoch 2/25\n",
      "86904/86904 [==============================] - 11s 126us/step - loss: 0.0181 - mean_absolute_error: 0.0181 - val_loss: 0.0189 - val_mean_absolute_error: 0.0189\n",
      "Epoch 3/25\n",
      "86904/86904 [==============================] - 11s 129us/step - loss: 0.0169 - mean_absolute_error: 0.0169 - val_loss: 0.0184 - val_mean_absolute_error: 0.0184\n",
      "Epoch 4/25\n",
      "86904/86904 [==============================] - 11s 125us/step - loss: 0.0164 - mean_absolute_error: 0.0164 - val_loss: 0.0183 - val_mean_absolute_error: 0.0183\n",
      "Epoch 5/25\n",
      "86904/86904 [==============================] - 10s 120us/step - loss: 0.0161 - mean_absolute_error: 0.0161 - val_loss: 0.0182 - val_mean_absolute_error: 0.0182\n",
      "Epoch 6/25\n",
      "86904/86904 [==============================] - 10s 121us/step - loss: 0.0160 - mean_absolute_error: 0.0160 - val_loss: 0.0180 - val_mean_absolute_error: 0.0180\n",
      "Epoch 7/25\n",
      "86904/86904 [==============================] - 11s 124us/step - loss: 0.0159 - mean_absolute_error: 0.0159 - val_loss: 0.0180 - val_mean_absolute_error: 0.0180\n",
      "Epoch 8/25\n",
      "86904/86904 [==============================] - 11s 125us/step - loss: 0.0158 - mean_absolute_error: 0.0158 - val_loss: 0.0181 - val_mean_absolute_error: 0.0181\n",
      "Epoch 9/25\n",
      "86904/86904 [==============================] - 11s 121us/step - loss: 0.0157 - mean_absolute_error: 0.0157 - val_loss: 0.0180 - val_mean_absolute_error: 0.0180\n",
      "Epoch 10/25\n",
      "86904/86904 [==============================] - 11s 122us/step - loss: 0.0157 - mean_absolute_error: 0.0157 - val_loss: 0.0179 - val_mean_absolute_error: 0.0179\n",
      "Epoch 11/25\n",
      "86904/86904 [==============================] - 10s 118us/step - loss: 0.0156 - mean_absolute_error: 0.0156 - val_loss: 0.0179 - val_mean_absolute_error: 0.0179\n",
      "Epoch 12/25\n",
      "86904/86904 [==============================] - 10s 118us/step - loss: 0.0156 - mean_absolute_error: 0.0156 - val_loss: 0.0180 - val_mean_absolute_error: 0.0180\n",
      "Epoch 13/25\n",
      "86904/86904 [==============================] - 10s 118us/step - loss: 0.0156 - mean_absolute_error: 0.0156 - val_loss: 0.0179 - val_mean_absolute_error: 0.0179\n",
      "Epoch 14/25\n",
      "86904/86904 [==============================] - 10s 120us/step - loss: 0.0155 - mean_absolute_error: 0.0155 - val_loss: 0.0179 - val_mean_absolute_error: 0.0179\n",
      "Epoch 15/25\n",
      "86904/86904 [==============================] - 11s 123us/step - loss: 0.0155 - mean_absolute_error: 0.0155 - val_loss: 0.0178 - val_mean_absolute_error: 0.0178\n",
      "Epoch 16/25\n",
      "86904/86904 [==============================] - 10s 116us/step - loss: 0.0155 - mean_absolute_error: 0.0155 - val_loss: 0.0179 - val_mean_absolute_error: 0.0179\n",
      "Epoch 17/25\n",
      "86904/86904 [==============================] - 10s 119us/step - loss: 0.0154 - mean_absolute_error: 0.0154 - val_loss: 0.0179 - val_mean_absolute_error: 0.0179\n",
      "Epoch 18/25\n",
      "86904/86904 [==============================] - 10s 119us/step - loss: 0.0154 - mean_absolute_error: 0.0154 - val_loss: 0.0178 - val_mean_absolute_error: 0.0178\n",
      "Epoch 19/25\n",
      "86904/86904 [==============================] - 10s 116us/step - loss: 0.0154 - mean_absolute_error: 0.0154 - val_loss: 0.0179 - val_mean_absolute_error: 0.0179\n",
      "Epoch 20/25\n",
      "86904/86904 [==============================] - 10s 118us/step - loss: 0.0154 - mean_absolute_error: 0.0154 - val_loss: 0.0179 - val_mean_absolute_error: 0.0179\n",
      "Epoch 21/25\n",
      "86904/86904 [==============================] - 10s 118us/step - loss: 0.0153 - mean_absolute_error: 0.0153 - val_loss: 0.0178 - val_mean_absolute_error: 0.0178\n",
      "Epoch 22/25\n",
      "86904/86904 [==============================] - 10s 118us/step - loss: 0.0153 - mean_absolute_error: 0.0153 - val_loss: 0.0178 - val_mean_absolute_error: 0.0178\n",
      "Epoch 23/25\n",
      "86904/86904 [==============================] - 10s 117us/step - loss: 0.0153 - mean_absolute_error: 0.0153 - val_loss: 0.0180 - val_mean_absolute_error: 0.0180\n",
      "Epoch 24/25\n",
      "86904/86904 [==============================] - 10s 117us/step - loss: 0.0153 - mean_absolute_error: 0.0153 - val_loss: 0.0178 - val_mean_absolute_error: 0.0178\n",
      "Epoch 25/25\n",
      "86904/86904 [==============================] - 10s 118us/step - loss: 0.0153 - mean_absolute_error: 0.0153 - val_loss: 0.0179 - val_mean_absolute_error: 0.0179\n"
     ]
    }
   ],
   "source": [
    "# Fit\n",
    "history = model.fit(X_train, Y_train, batch_size=batch_size, epochs=epochs, verbose=1, validation_data=(X_test, Y_test))"
   ]
  },
  {
   "cell_type": "markdown",
   "metadata": {},
   "source": [
    "## Loss values during training procedure"
   ]
  },
  {
   "cell_type": "code",
   "execution_count": 6,
   "metadata": {},
   "outputs": [
    {
     "name": "stdout",
     "output_type": "stream",
     "text": [
      "val_loss\n"
     ]
    },
    {
     "data": {
      "image/png": "[encoded data removed]",
      "text/plain": [
       "<Figure size 432x288 with 1 Axes>"
      ]
     },
     "metadata": {},
     "output_type": "display_data"
    },
    {
     "name": "stdout",
     "output_type": "stream",
     "text": [
      "val_mean_absolute_error\n"
     ]
    },
    {
     "data": {
      "image/png": "[encoded data removed]",
      "text/plain": [
       "<Figure size 432x288 with 1 Axes>"
      ]
     },
     "metadata": {},
     "output_type": "display_data"
    },
    {
     "name": "stdout",
     "output_type": "stream",
     "text": [
      "loss\n"
     ]
    },
    {
     "data": {
      "image/png": "[encoded data removed]",
      "text/plain": [
       "<Figure size 432x288 with 1 Axes>"
      ]
     },
     "metadata": {},
     "output_type": "display_data"
    },
    {
     "name": "stdout",
     "output_type": "stream",
     "text": [
      "mean_absolute_error\n"
     ]
    },
    {
     "data": {
      "image/png": "[encoded data removed]",
      "text/plain": [
       "<Figure size 432x288 with 1 Axes>"
      ]
     },
     "metadata": {},
     "output_type": "display_data"
    }
   ],
   "source": [
    "# Plot metrics\n",
    "for k in history.history.keys():\n",
    "    print(k)\n",
    "    pyplot.plot(history.history[k])\n",
    "    pyplot.savefig(k+'.png')\n",
    "    pyplot.show()"
   ]
  },
  {
   "cell_type": "markdown",
   "metadata": {},
   "source": [
    "## Error computation\n",
    "* Root mean squared error and Mean absolute error\n",
    "* Compute an histogram of errors"
   ]
  },
  {
   "cell_type": "code",
   "execution_count": 7,
   "metadata": {},
   "outputs": [
    {
     "name": "stdout",
     "output_type": "stream",
     "text": [
      "MAE error: 0.017907181373561266\n",
      "RMSE error: 0.03400246230053\n"
     ]
    }
   ],
   "source": [
    "MAE = []\n",
    "RMSE = []\n",
    "\n",
    "for X_, Y_ in zip(X_test, Y_test): # Validation data\n",
    "    # Predict and calculate mean absolute error\n",
    "    mae = model.evaluate(np.array([X_]), np.array([Y_]), verbose=0)[0]\n",
    "    \n",
    "    Y_pred = model.predict(np.array([X_]))[0]\n",
    "    rmse = sqrt(mean_squared_error(Y_pred, Y_))\n",
    "\n",
    "    MAE.append(mae)\n",
    "    RMSE.append(rmse)\n",
    "    \n",
    "print( \"MAE error:\", np.array(MAE).mean() )\n",
    "print( \"RMSE error:\", np.array(RMSE).mean() )"
   ]
  },
  {
   "cell_type": "markdown",
   "metadata": {},
   "source": [
    "### Mean absolute error"
   ]
  },
  {
   "cell_type": "code",
   "execution_count": 8,
   "metadata": {},
   "outputs": [
    {
     "data": {
      "text/plain": [
       "<matplotlib.axes._subplots.AxesSubplot at 0x7fc1a0eb0fd0>"
      ]
     },
     "execution_count": 8,
     "metadata": {},
     "output_type": "execute_result"
    },
    {
     "data": {
      "image/png": "[encoded data removed]",
      "text/plain": [
       "<Figure size 720x576 with 1 Axes>"
      ]
     },
     "metadata": {},
     "output_type": "display_data"
    }
   ],
   "source": [
    "pd.Series(np.array(MAE)).hist(figsize=(10,8))"
   ]
  },
  {
   "cell_type": "markdown",
   "metadata": {},
   "source": [
    "### Root mean squared error"
   ]
  },
  {
   "cell_type": "code",
   "execution_count": 9,
   "metadata": {},
   "outputs": [
    {
     "data": {
      "text/plain": [
       "<matplotlib.axes._subplots.AxesSubplot at 0x7fc185949b00>"
      ]
     },
     "execution_count": 9,
     "metadata": {},
     "output_type": "execute_result"
    },
    {
     "data": {
      "image/png": "[encoded data removed]",
      "text/plain": [
       "<Figure size 720x576 with 1 Axes>"
      ]
     },
     "metadata": {},
     "output_type": "display_data"
    }
   ],
   "source": [
    "pd.Series(np.array(RMSE)).hist(figsize=(10,8))"
   ]
  }
 ],
 "metadata": {
  "kernelspec": {
   "display_name": "Python 3",
   "language": "python",
   "name": "python3"
  },
  "language_info": {
   "codemirror_mode": {
    "name": "ipython",
    "version": 3
   },
   "file_extension": ".py",
   "mimetype": "text/x-python",
   "name": "python",
   "nbconvert_exporter": "python",
   "pygments_lexer": "ipython3",
   "version": "3.6.4"
  }
 },
 "nbformat": 4,
 "nbformat_minor": 2
}
