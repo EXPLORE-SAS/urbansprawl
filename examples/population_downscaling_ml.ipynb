{
 "cells": [
  {
   "cell_type": "code",
   "execution_count": 1,
   "metadata": {},
   "outputs": [
    {
     "name": "stderr",
     "output_type": "stream",
     "text": [
      "Using TensorFlow backend.\n"
     ]
    },
    {
     "data": {
      "text/plain": [
       "'1.8.0'"
      ]
     },
     "execution_count": 1,
     "metadata": {},
     "output_type": "execute_result"
    }
   ],
   "source": [
    "import os\n",
    "import sys\n",
    "module_path = os.path.abspath(os.path.join('..'))\n",
    "if module_path not in sys.path:\n",
    "    sys.path.append(module_path)\n",
    "\n",
    "import pandas as pd\n",
    "import numpy as np\n",
    "from math import sqrt\n",
    "from sklearn.metrics import mean_squared_error\n",
    "import matplotlib.pyplot as plt \n",
    "from src.population.urban_features import get_Y_X_features_population_data\n",
    "\n",
    "from keras import backend as K\n",
    "from keras import optimizers, regularizers\n",
    "from keras.models import Sequential\n",
    "from keras.layers import Activation, Flatten, Conv1D\n",
    "\n",
    "import tensorflow\n",
    "tensorflow.__version__"
   ]
  },
  {
   "cell_type": "code",
   "execution_count": 6,
   "metadata": {},
   "outputs": [
    {
     "name": "stdout",
     "output_type": "stream",
     "text": [
      "************************\n",
      "Paris\n",
      "Validation length: 7014 Training length: 89958\n",
      "CPU times: user 14min 15s, sys: 1min 36s, total: 15min 52s\n",
      "Wall time: 9min 4s\n",
      "MAE error: 0.01738107610875111\n",
      "RMSE error: 0.028920892151818797\n",
      "************************\n",
      "************************\n",
      "Marseille\n",
      "Validation length: 14438 Training length: 82534\n",
      "CPU times: user 13min 26s, sys: 1min 29s, total: 14min 55s\n",
      "Wall time: 8min 34s\n",
      "MAE error: 0.017502561149405804\n",
      "RMSE error: 0.03585489087888121\n",
      "************************\n",
      "************************\n",
      "Lyon\n",
      "Validation length: 10068 Training length: 86904\n",
      "CPU times: user 13min 49s, sys: 1min 31s, total: 15min 20s\n",
      "Wall time: 8min 44s\n",
      "MAE error: 0.018243427615534498\n",
      "RMSE error: 0.03437186419655332\n",
      "************************\n",
      "************************\n",
      "Toulouse\n",
      "Validation length: 5300 Training length: 91672\n",
      "CPU times: user 14min 10s, sys: 1min 35s, total: 15min 46s\n",
      "Wall time: 8min 54s\n",
      "MAE error: 0.01731771245517625\n",
      "RMSE error: 0.03372120273603324\n",
      "************************\n",
      "************************\n",
      "Nice\n",
      "Validation length: 2323 Training length: 94649\n",
      "CPU times: user 15min 11s, sys: 1min 42s, total: 16min 54s\n",
      "Wall time: 9min 39s\n",
      "MAE error: 0.02297792953593963\n",
      "RMSE error: 0.04111300337857522\n",
      "************************\n",
      "************************\n",
      "Nantes\n",
      "Validation length: 7477 Training length: 89495\n",
      "CPU times: user 14min 5s, sys: 1min 35s, total: 15min 40s\n",
      "Wall time: 8min 55s\n",
      "MAE error: 0.044558154912315476\n",
      "RMSE error: 0.06831501681882393\n",
      "************************\n",
      "************************\n",
      "Strasbourg\n",
      "Validation length: 3425 Training length: 93547\n",
      "CPU times: user 14min 42s, sys: 1min 39s, total: 16min 21s\n",
      "Wall time: 9min 19s\n",
      "MAE error: 0.04808881815876404\n",
      "RMSE error: 0.07904472109468144\n",
      "************************\n",
      "************************\n",
      "Montpellier\n",
      "Validation length: 4497 Training length: 92475\n",
      "CPU times: user 14min 21s, sys: 1min 36s, total: 15min 57s\n",
      "Wall time: 9min 1s\n",
      "MAE error: 0.01768995426731741\n",
      "RMSE error: 0.0358920163968285\n",
      "************************\n",
      "************************\n",
      "Bordeaux\n",
      "Validation length: 6650 Training length: 90322\n",
      "CPU times: user 14min 6s, sys: 1min 34s, total: 15min 41s\n",
      "Wall time: 8min 52s\n",
      "MAE error: 0.041105058640801814\n",
      "RMSE error: 0.06555045935061252\n",
      "************************\n",
      "************************\n",
      "Rennes\n",
      "Validation length: 3676 Training length: 93296\n",
      "CPU times: user 14min 34s, sys: 1min 37s, total: 16min 12s\n",
      "Wall time: 9min 12s\n",
      "MAE error: 0.017795618413008685\n",
      "RMSE error: 0.03880252820446785\n",
      "************************\n",
      "************************\n",
      "Reims\n",
      "Validation length: 3668 Training length: 93304\n",
      "CPU times: user 14min 30s, sys: 1min 37s, total: 16min 8s\n",
      "Wall time: 9min 9s\n",
      "MAE error: 0.05599713365592046\n",
      "RMSE error: 0.10104466858625603\n",
      "************************\n",
      "************************\n",
      "Saint-Étienne\n",
      "Validation length: 5153 Training length: 91819\n",
      "CPU times: user 14min 32s, sys: 1min 36s, total: 16min 8s\n",
      "Wall time: 9min 12s\n",
      "MAE error: 0.0172584594904289\n",
      "RMSE error: 0.037770182087151626\n",
      "************************\n",
      "************************\n",
      "Toulon\n",
      "Validation length: 6742 Training length: 90230\n",
      "CPU times: user 14min 13s, sys: 1min 35s, total: 15min 48s\n",
      "Wall time: 8min 59s\n",
      "MAE error: 0.015476221190023988\n",
      "RMSE error: 0.028839587189913994\n",
      "************************\n",
      "************************\n",
      "Grenoble\n",
      "Validation length: 11231 Training length: 85741\n",
      "CPU times: user 14min 10s, sys: 1min 33s, total: 15min 43s\n",
      "Wall time: 9min 6s\n",
      "MAE error: 0.015067943260980264\n",
      "RMSE error: 0.033099870734340515\n",
      "************************\n",
      "************************\n",
      "Dijon\n",
      "Validation length: 5310 Training length: 91662\n",
      "CPU times: user 14min 44s, sys: 1min 37s, total: 16min 22s\n",
      "Wall time: 9min 25s\n",
      "MAE error: 0.013099154754331935\n",
      "RMSE error: 0.030378511468398973\n",
      "************************\n"
     ]
    }
   ],
   "source": [
    "cities_french = [ \"Paris\", \"Marseille\", \"Lyon\", \"Toulouse\", \"Nice\", \"Nantes\", \"Strasbourg\", \"Montpellier\", \"Bordeaux\", \"Rennes\", \"Reims\", \"Saint-Étienne\", \"Toulon\", \"Grenoble\", \"Dijon\"] \n",
    "leave_one_out_mae = {}\n",
    "leave_one_out_rmse = {}\n",
    "\n",
    "for city_sel in cities_french:\n",
    "    print(\"************************\")\n",
    "    print(city_sel)\n",
    "    \n",
    "    # Validation data\n",
    "    Y_test, X_test, X_columns = get_Y_X_features_population_data(cities_selection=[city_sel])\n",
    "    # Training data\n",
    "    Y_train, X_train, X_columns = get_Y_X_features_population_data(cities_skip=[city_sel])\n",
    "    \n",
    "    # Shape\n",
    "    print( \"Validation length:\", Y_test.shape[0], \"Training length:\", Y_train.shape[0] )\n",
    "    \n",
    "    train_test_cnn(Y_test, X_test, Y_train, X_train, city_sel)\n",
    "    \n",
    "    print(\"************************\")"
   ]
  },
  {
   "cell_type": "code",
   "execution_count": 5,
   "metadata": {},
   "outputs": [],
   "source": [
    "def train_test_cnn(Y_test, X_test, Y_train, X_train, city_ref):\n",
    "    epochs = 100\n",
    "    batch_size = 32\n",
    "\n",
    "    _, input_shape_pixels, input_shape_features = X_train.shape\n",
    "    input_shape = (input_shape_pixels, input_shape_features)\n",
    "    \"Input shape:\", input_shape\n",
    "\n",
    "    model = Sequential()\n",
    "\n",
    "    # First layer: Input shape correspondent to X values\n",
    "    model.add(Conv1D(filters=10, kernel_size=1, strides=1, input_shape=input_shape  ) )\n",
    "    model.add(Activation('relu'))\n",
    "\n",
    "    model.add(Conv1D(filters=5, kernel_size=1, strides=1 ) )\n",
    "    model.add(Activation('relu'))\n",
    "\n",
    "    model.add(Conv1D(filters=1, kernel_size=1, strides=1 ) )\n",
    "    model.add(Activation('relu'))\n",
    "\n",
    "    # Flatten\n",
    "    model.add(Flatten())\n",
    "\n",
    "    # Force densities to sum 1\n",
    "    model.add(Activation('softmax'))\n",
    "\n",
    "    # Optimizer\n",
    "    #optim = optimizers.SGD(lr=0.25, decay=1e-6, momentum=0.9, nesterov=True)\n",
    "    optim = optimizers.SGD(lr=0.01, decay=1e-6, momentum=0.9, nesterov=True)\n",
    "\n",
    "    # Compile\n",
    "    model.compile(loss='mean_absolute_error', optimizer=optim, metrics=['mae'])\n",
    "\n",
    "    # Fit\n",
    "    %time history = model.fit(X_train, Y_train, batch_size=batch_size, epochs=epochs, verbose=0, validation_data=(X_test, Y_test))\n",
    "    \n",
    "    # Evaluate model\n",
    "    MAE, RMSE = [], []\n",
    "    for X_, Y_ in zip(X_test, Y_test): # Validation data\n",
    "        # Predict and calculate mean absolute error\n",
    "        mae = model.evaluate(np.array([X_]), np.array([Y_]), verbose=0)[0]\n",
    "\n",
    "        Y_pred = model.predict(np.array([X_]))[0]\n",
    "        rmse = sqrt(mean_squared_error(Y_pred, Y_))\n",
    "\n",
    "        MAE.append(mae)\n",
    "        RMSE.append(rmse)\n",
    "    \n",
    "    # Associate errors to input city\n",
    "    leave_one_out_mae[city_ref] = np.array(MAE).mean()\n",
    "    leave_one_out_rmse[city_ref] = np.array(RMSE).mean()\n",
    "        \n",
    "    print( \"MAE error:\", np.array(MAE).mean() )\n",
    "    print( \"RMSE error:\", np.array(RMSE).mean() )"
   ]
  },
  {
   "cell_type": "code",
   "execution_count": null,
   "metadata": {},
   "outputs": [],
   "source": [
    "assert(False)"
   ]
  },
  {
   "cell_type": "code",
   "execution_count": 8,
   "metadata": {},
   "outputs": [],
   "source": [
    "import pandas as pd"
   ]
  },
  {
   "cell_type": "code",
   "execution_count": 43,
   "metadata": {},
   "outputs": [
    {
     "data": {
      "image/png": "[encoded data removed]",
      "text/plain": [
       "<Figure size 432x288 with 1 Axes>"
      ]
     },
     "metadata": {},
     "output_type": "display_data"
    }
   ],
   "source": [
    "pd.Series(leave_one_out_mae).plot('bar', colormap=\"ocean\")\n",
    "plt.ylabel(\"Mean absolute error\")\n",
    "plt.title(\"Leave-one-out cross-validation\")\n",
    "plt.tight_layout()\n",
    "plt.savefig(\"images/CNN_cross_validation_mae.png\", dpi=600, pad_inches=0)"
   ]
  },
  {
   "cell_type": "code",
   "execution_count": 42,
   "metadata": {},
   "outputs": [
    {
     "data": {
      "image/png": "[encoded data removed]",
      "text/plain": [
       "<Figure size 432x288 with 1 Axes>"
      ]
     },
     "metadata": {},
     "output_type": "display_data"
    }
   ],
   "source": [
    "pd.Series(leave_one_out_rmse).plot('bar', colormap=\"ocean\")\n",
    "plt.ylabel(\"Root mean squared error\")\n",
    "plt.title(\"Leave-one-out cross-validation\")\n",
    "plt.tight_layout()\n",
    "plt.savefig(\"images/CNN_cross_validation_rmse.png\", dpi=600, pad_inches=0)"
   ]
  },
  {
   "cell_type": "code",
   "execution_count": 27,
   "metadata": {},
   "outputs": [
    {
     "data": {
      "text/plain": [
       "0.02530394824058002"
      ]
     },
     "execution_count": 27,
     "metadata": {},
     "output_type": "execute_result"
    }
   ],
   "source": [
    "np.array(list(leave_one_out_mae.values())).mean()"
   ]
  },
  {
   "cell_type": "code",
   "execution_count": 16,
   "metadata": {},
   "outputs": [
    {
     "data": {
      "text/plain": [
       "{'Paris': 0.01738107610875111,\n",
       " 'Marseille': 0.017502561149405804,\n",
       " 'Lyon': 0.018243427615534498,\n",
       " 'Toulouse': 0.01731771245517625,\n",
       " 'Nice': 0.02297792953593963,\n",
       " 'Nantes': 0.044558154912315476,\n",
       " 'Strasbourg': 0.04808881815876404,\n",
       " 'Montpellier': 0.01768995426731741,\n",
       " 'Bordeaux': 0.041105058640801814,\n",
       " 'Rennes': 0.017795618413008685,\n",
       " 'Reims': 0.05599713365592046,\n",
       " 'Saint-Étienne': 0.0172584594904289,\n",
       " 'Toulon': 0.015476221190023988,\n",
       " 'Grenoble': 0.015067943260980264,\n",
       " 'Dijon': 0.013099154754331935}"
      ]
     },
     "execution_count": 16,
     "metadata": {},
     "output_type": "execute_result"
    }
   ],
   "source": [
    "leave_one_out_mae"
   ]
  },
  {
   "cell_type": "code",
   "execution_count": 28,
   "metadata": {},
   "outputs": [
    {
     "data": {
      "text/plain": [
       "0.04618129435155582"
      ]
     },
     "execution_count": 28,
     "metadata": {},
     "output_type": "execute_result"
    }
   ],
   "source": [
    "np.array(list(leave_one_out_rmse.values())).mean()"
   ]
  },
  {
   "cell_type": "code",
   "execution_count": 17,
   "metadata": {},
   "outputs": [
    {
     "data": {
      "text/plain": [
       "{'Paris': 0.028920892151818797,\n",
       " 'Marseille': 0.03585489087888121,\n",
       " 'Lyon': 0.03437186419655332,\n",
       " 'Toulouse': 0.03372120273603324,\n",
       " 'Nice': 0.04111300337857522,\n",
       " 'Nantes': 0.06831501681882393,\n",
       " 'Strasbourg': 0.07904472109468144,\n",
       " 'Montpellier': 0.0358920163968285,\n",
       " 'Bordeaux': 0.06555045935061252,\n",
       " 'Rennes': 0.03880252820446785,\n",
       " 'Reims': 0.10104466858625603,\n",
       " 'Saint-Étienne': 0.037770182087151626,\n",
       " 'Toulon': 0.028839587189913994,\n",
       " 'Grenoble': 0.033099870734340515,\n",
       " 'Dijon': 0.030378511468398973}"
      ]
     },
     "execution_count": 17,
     "metadata": {},
     "output_type": "execute_result"
    }
   ],
   "source": [
    "leave_one_out_rmse"
   ]
  },
  {
   "cell_type": "code",
   "execution_count": null,
   "metadata": {},
   "outputs": [],
   "source": []
  },
  {
   "cell_type": "code",
   "execution_count": null,
   "metadata": {},
   "outputs": [],
   "source": []
  },
  {
   "cell_type": "markdown",
   "metadata": {},
   "source": [
    "## Urban features\n",
    "* Load stored urban features and gridded population data (see \"population_osm_cities.ipynb\")"
   ]
  },
  {
   "cell_type": "code",
   "execution_count": 4,
   "metadata": {},
   "outputs": [
    {
     "name": "stdout",
     "output_type": "stream",
     "text": [
      "Validation data shape: (10068, 25) (10068, 25, 20)\n",
      "Training data shape: (86904, 25) (86904, 25, 20)\n"
     ]
    }
   ],
   "source": [
    "city_sel = \"Lyon\"\n",
    "\n",
    "# Validation data\n",
    "Y_test, X_test, X_columns = get_Y_X_features_population_data(cities_selection=[city_sel])\n",
    "# Shape\n",
    "print( \"Validation data shape:\", Y_test.shape, X_test.shape )\n",
    "\n",
    "# Training data\n",
    "Y_train, X_train, X_columns = get_Y_X_features_population_data(cities_skip=[city_sel])\n",
    "# Shape\n",
    "print( \"Training data shape:\", Y_train.shape, X_train.shape )"
   ]
  },
  {
   "cell_type": "markdown",
   "metadata": {},
   "source": [
    "## Fully convolutional neural networks (CNNs)\n",
    "* Fully convolutional architecture\n",
    "* Input: Computed urban features\n",
    "    * Each sample consists of 25 aggregated squares\n",
    "* Usage of Rectified Linear Units activation functions\n",
    "* Output layer: Soft-max activation function\n",
    "    * Associates population densities to each input square"
   ]
  },
  {
   "cell_type": "code",
   "execution_count": 19,
   "metadata": {},
   "outputs": [
    {
     "data": {
      "text/plain": [
       "('Input shape:', (25, 20))"
      ]
     },
     "execution_count": 19,
     "metadata": {},
     "output_type": "execute_result"
    }
   ],
   "source": [
    "epochs = 100\n",
    "batch_size = 32\n",
    "\n",
    "_, input_shape_pixels, input_shape_features = X_train.shape\n",
    "input_shape = (input_shape_pixels, input_shape_features)\n",
    "\"Input shape:\", input_shape"
   ]
  },
  {
   "cell_type": "code",
   "execution_count": 45,
   "metadata": {},
   "outputs": [
    {
     "name": "stdout",
     "output_type": "stream",
     "text": [
      "Input: (None, 25, 20) Output: (None, 25)\n",
      "_________________________________________________________________\n",
      "Layer (type)                 Output Shape              Param #   \n",
      "=================================================================\n",
      "conv1d_35 (Conv1D)           (None, 25, 10)            210       \n",
      "_________________________________________________________________\n",
      "activation_54 (Activation)   (None, 25, 10)            0         \n",
      "_________________________________________________________________\n",
      "conv1d_36 (Conv1D)           (None, 25, 5)             55        \n",
      "_________________________________________________________________\n",
      "activation_55 (Activation)   (None, 25, 5)             0         \n",
      "_________________________________________________________________\n",
      "conv1d_37 (Conv1D)           (None, 25, 1)             6         \n",
      "_________________________________________________________________\n",
      "activation_56 (Activation)   (None, 25, 1)             0         \n",
      "_________________________________________________________________\n",
      "flatten_23 (Flatten)         (None, 25)                0         \n",
      "_________________________________________________________________\n",
      "activation_57 (Activation)   (None, 25)                0         \n",
      "=================================================================\n",
      "Total params: 271\n",
      "Trainable params: 271\n",
      "Non-trainable params: 0\n",
      "_________________________________________________________________\n"
     ]
    }
   ],
   "source": [
    "model = Sequential()\n",
    "\n",
    "# First layer: Input shape correspondent to X values\n",
    "model.add(Conv1D(filters=10, kernel_size=1, strides=1, input_shape=input_shape  ) )\n",
    "model.add(Activation('relu'))\n",
    "\n",
    "model.add(Conv1D(filters=5, kernel_size=1, strides=1 ) )\n",
    "model.add(Activation('relu'))\n",
    "\n",
    "model.add(Conv1D(filters=1, kernel_size=1, strides=1 ) )\n",
    "model.add(Activation('relu'))\n",
    "\n",
    "# Flatten\n",
    "model.add(Flatten())\n",
    "\n",
    "# Force densities to sum 1\n",
    "model.add(Activation('softmax'))\n",
    "\n",
    "# Optimizer\n",
    "#optim = optimizers.SGD(lr=0.25, decay=1e-6, momentum=0.9, nesterov=True)\n",
    "optim = optimizers.SGD(lr=0.01, decay=1e-6, momentum=0.9, nesterov=True)\n",
    "\n",
    "# Compile\n",
    "model.compile(loss='mean_absolute_error', optimizer=optim, metrics=['mae'])\n",
    "\n",
    "# Model shape\n",
    "print( \"Input:\", model.input_shape, \"Output:\", model.output_shape )\n",
    "model.summary()"
   ]
  },
  {
   "cell_type": "markdown",
   "metadata": {},
   "source": [
    "## Train the model\n",
    "* The city of Lyon is used for the model validation"
   ]
  },
  {
   "cell_type": "code",
   "execution_count": 46,
   "metadata": {},
   "outputs": [
    {
     "name": "stdout",
     "output_type": "stream",
     "text": [
      "Train on 86904 samples, validate on 10068 samples\n",
      "Epoch 1/100\n",
      "86904/86904 [==============================] - 13s 144us/step - loss: 0.0458 - mean_absolute_error: 0.0458 - val_loss: 0.0403 - val_mean_absolute_error: 0.0403\n",
      "Epoch 2/100\n",
      "86904/86904 [==============================] - 11s 128us/step - loss: 0.0417 - mean_absolute_error: 0.0417 - val_loss: 0.0359 - val_mean_absolute_error: 0.0359\n",
      "Epoch 3/100\n",
      "86904/86904 [==============================] - 13s 149us/step - loss: 0.0364 - mean_absolute_error: 0.0364 - val_loss: 0.0319 - val_mean_absolute_error: 0.0319\n",
      "Epoch 4/100\n",
      "86904/86904 [==============================] - 13s 150us/step - loss: 0.0319 - mean_absolute_error: 0.0319 - val_loss: 0.0292 - val_mean_absolute_error: 0.0292\n",
      "Epoch 5/100\n",
      "86904/86904 [==============================] - 11s 124us/step - loss: 0.0286 - mean_absolute_error: 0.0286 - val_loss: 0.0268 - val_mean_absolute_error: 0.0268\n",
      "Epoch 6/100\n",
      "86904/86904 [==============================] - 14s 160us/step - loss: 0.0262 - mean_absolute_error: 0.0262 - val_loss: 0.0249 - val_mean_absolute_error: 0.0249\n",
      "Epoch 7/100\n",
      "86904/86904 [==============================] - 14s 158us/step - loss: 0.0244 - mean_absolute_error: 0.0244 - val_loss: 0.0237 - val_mean_absolute_error: 0.0237\n",
      "Epoch 8/100\n",
      "86904/86904 [==============================] - 14s 163us/step - loss: 0.0230 - mean_absolute_error: 0.0230 - val_loss: 0.0228 - val_mean_absolute_error: 0.0228\n",
      "Epoch 9/100\n",
      "86904/86904 [==============================] - 15s 171us/step - loss: 0.0219 - mean_absolute_error: 0.0219 - val_loss: 0.0222 - val_mean_absolute_error: 0.0222\n",
      "Epoch 10/100\n",
      "86904/86904 [==============================] - 12s 134us/step - loss: 0.0211 - mean_absolute_error: 0.0211 - val_loss: 0.0218 - val_mean_absolute_error: 0.0218\n",
      "Epoch 11/100\n",
      "86904/86904 [==============================] - 11s 128us/step - loss: 0.0205 - mean_absolute_error: 0.0205 - val_loss: 0.0215 - val_mean_absolute_error: 0.0215\n",
      "Epoch 12/100\n",
      "86904/86904 [==============================] - 11s 125us/step - loss: 0.0201 - mean_absolute_error: 0.0201 - val_loss: 0.0212 - val_mean_absolute_error: 0.0212\n",
      "Epoch 13/100\n",
      "86904/86904 [==============================] - 12s 142us/step - loss: 0.0198 - mean_absolute_error: 0.0198 - val_loss: 0.0210 - val_mean_absolute_error: 0.0210\n",
      "Epoch 14/100\n",
      "86904/86904 [==============================] - 12s 137us/step - loss: 0.0195 - mean_absolute_error: 0.0195 - val_loss: 0.0208 - val_mean_absolute_error: 0.0208\n",
      "Epoch 15/100\n",
      "86904/86904 [==============================] - 12s 138us/step - loss: 0.0193 - mean_absolute_error: 0.0193 - val_loss: 0.0207 - val_mean_absolute_error: 0.0207\n",
      "Epoch 16/100\n",
      "86904/86904 [==============================] - 12s 135us/step - loss: 0.0191 - mean_absolute_error: 0.0191 - val_loss: 0.0206 - val_mean_absolute_error: 0.0206\n",
      "Epoch 17/100\n",
      "86904/86904 [==============================] - 11s 130us/step - loss: 0.0190 - mean_absolute_error: 0.0190 - val_loss: 0.0205 - val_mean_absolute_error: 0.0205\n",
      "Epoch 18/100\n",
      "86904/86904 [==============================] - 11s 130us/step - loss: 0.0188 - mean_absolute_error: 0.0188 - val_loss: 0.0204 - val_mean_absolute_error: 0.0204\n",
      "Epoch 19/100\n",
      "86904/86904 [==============================] - 15s 169us/step - loss: 0.0187 - mean_absolute_error: 0.0187 - val_loss: 0.0203 - val_mean_absolute_error: 0.0203\n",
      "Epoch 20/100\n",
      "86904/86904 [==============================] - 13s 149us/step - loss: 0.0186 - mean_absolute_error: 0.0186 - val_loss: 0.0203 - val_mean_absolute_error: 0.0203\n",
      "Epoch 21/100\n",
      "86904/86904 [==============================] - 13s 147us/step - loss: 0.0185 - mean_absolute_error: 0.0185 - val_loss: 0.0202 - val_mean_absolute_error: 0.0202\n",
      "Epoch 22/100\n",
      "86904/86904 [==============================] - 14s 164us/step - loss: 0.0184 - mean_absolute_error: 0.0184 - val_loss: 0.0202 - val_mean_absolute_error: 0.0202\n",
      "Epoch 23/100\n",
      "86904/86904 [==============================] - 14s 159us/step - loss: 0.0184 - mean_absolute_error: 0.0184 - val_loss: 0.0201 - val_mean_absolute_error: 0.0201\n",
      "Epoch 24/100\n",
      "86904/86904 [==============================] - 12s 139us/step - loss: 0.0183 - mean_absolute_error: 0.0183 - val_loss: 0.0200 - val_mean_absolute_error: 0.0200\n",
      "Epoch 25/100\n",
      "86904/86904 [==============================] - 12s 143us/step - loss: 0.0182 - mean_absolute_error: 0.0182 - val_loss: 0.0200 - val_mean_absolute_error: 0.0200\n",
      "Epoch 26/100\n",
      "86904/86904 [==============================] - 14s 156us/step - loss: 0.0181 - mean_absolute_error: 0.0181 - val_loss: 0.0199 - val_mean_absolute_error: 0.0199\n",
      "Epoch 27/100\n",
      "86904/86904 [==============================] - 14s 157us/step - loss: 0.0180 - mean_absolute_error: 0.0180 - val_loss: 0.0197 - val_mean_absolute_error: 0.0197\n",
      "Epoch 28/100\n",
      "86904/86904 [==============================] - 14s 164us/step - loss: 0.0179 - mean_absolute_error: 0.0179 - val_loss: 0.0197 - val_mean_absolute_error: 0.0197\n",
      "Epoch 29/100\n",
      "86904/86904 [==============================] - 14s 161us/step - loss: 0.0178 - mean_absolute_error: 0.0178 - val_loss: 0.0196 - val_mean_absolute_error: 0.0196\n",
      "Epoch 30/100\n",
      "86904/86904 [==============================] - 12s 136us/step - loss: 0.0177 - mean_absolute_error: 0.0177 - val_loss: 0.0195 - val_mean_absolute_error: 0.0195\n",
      "Epoch 31/100\n",
      "86904/86904 [==============================] - 14s 162us/step - loss: 0.0176 - mean_absolute_error: 0.0176 - val_loss: 0.0194 - val_mean_absolute_error: 0.0194\n",
      "Epoch 32/100\n",
      "86904/86904 [==============================] - 14s 162us/step - loss: 0.0175 - mean_absolute_error: 0.0175 - val_loss: 0.0193 - val_mean_absolute_error: 0.0193\n",
      "Epoch 33/100\n",
      "86904/86904 [==============================] - 10s 118us/step - loss: 0.0174 - mean_absolute_error: 0.0174 - val_loss: 0.0192 - val_mean_absolute_error: 0.0192\n",
      "Epoch 34/100\n",
      "86904/86904 [==============================] - 12s 134us/step - loss: 0.0173 - mean_absolute_error: 0.0173 - val_loss: 0.0191 - val_mean_absolute_error: 0.0191\n",
      "Epoch 35/100\n",
      "86904/86904 [==============================] - 14s 161us/step - loss: 0.0173 - mean_absolute_error: 0.0173 - val_loss: 0.0191 - val_mean_absolute_error: 0.0191\n",
      "Epoch 36/100\n",
      "86904/86904 [==============================] - 14s 164us/step - loss: 0.0172 - mean_absolute_error: 0.0172 - val_loss: 0.0190 - val_mean_absolute_error: 0.0190\n",
      "Epoch 37/100\n",
      "86904/86904 [==============================] - 13s 154us/step - loss: 0.0172 - mean_absolute_error: 0.0172 - val_loss: 0.0190 - val_mean_absolute_error: 0.0190\n",
      "Epoch 38/100\n",
      "86904/86904 [==============================] - 15s 167us/step - loss: 0.0171 - mean_absolute_error: 0.0171 - val_loss: 0.0190 - val_mean_absolute_error: 0.0190\n",
      "Epoch 39/100\n",
      "86904/86904 [==============================] - 14s 159us/step - loss: 0.0171 - mean_absolute_error: 0.0171 - val_loss: 0.0189 - val_mean_absolute_error: 0.0189\n",
      "Epoch 40/100\n",
      "86904/86904 [==============================] - 14s 161us/step - loss: 0.0171 - mean_absolute_error: 0.0171 - val_loss: 0.0189 - val_mean_absolute_error: 0.0189\n",
      "Epoch 41/100\n",
      "86904/86904 [==============================] - 15s 169us/step - loss: 0.0170 - mean_absolute_error: 0.0170 - val_loss: 0.0189 - val_mean_absolute_error: 0.0189\n",
      "Epoch 42/100\n",
      "86904/86904 [==============================] - 14s 167us/step - loss: 0.0170 - mean_absolute_error: 0.0170 - val_loss: 0.0188 - val_mean_absolute_error: 0.0188\n",
      "Epoch 43/100\n",
      "86904/86904 [==============================] - 13s 149us/step - loss: 0.0169 - mean_absolute_error: 0.0169 - val_loss: 0.0188 - val_mean_absolute_error: 0.0188\n",
      "Epoch 44/100\n",
      "86904/86904 [==============================] - 13s 149us/step - loss: 0.0169 - mean_absolute_error: 0.0169 - val_loss: 0.0188 - val_mean_absolute_error: 0.0188\n",
      "Epoch 45/100\n",
      "86904/86904 [==============================] - 14s 166us/step - loss: 0.0169 - mean_absolute_error: 0.0169 - val_loss: 0.0187 - val_mean_absolute_error: 0.0187\n",
      "Epoch 46/100\n",
      "86904/86904 [==============================] - 13s 153us/step - loss: 0.0168 - mean_absolute_error: 0.0168 - val_loss: 0.0187 - val_mean_absolute_error: 0.0187\n",
      "Epoch 47/100\n",
      "86904/86904 [==============================] - 13s 153us/step - loss: 0.0168 - mean_absolute_error: 0.0168 - val_loss: 0.0187 - val_mean_absolute_error: 0.0187\n",
      "Epoch 48/100\n",
      "86904/86904 [==============================] - 14s 167us/step - loss: 0.0168 - mean_absolute_error: 0.0168 - val_loss: 0.0187 - val_mean_absolute_error: 0.0187\n",
      "Epoch 49/100\n",
      "86904/86904 [==============================] - 14s 157us/step - loss: 0.0168 - mean_absolute_error: 0.0168 - val_loss: 0.0187 - val_mean_absolute_error: 0.0187\n",
      "Epoch 50/100\n",
      "86904/86904 [==============================] - 13s 151us/step - loss: 0.0167 - mean_absolute_error: 0.0167 - val_loss: 0.0186 - val_mean_absolute_error: 0.0186\n",
      "Epoch 51/100\n",
      "86904/86904 [==============================] - 12s 135us/step - loss: 0.0167 - mean_absolute_error: 0.0167 - val_loss: 0.0186 - val_mean_absolute_error: 0.0186\n",
      "Epoch 52/100\n",
      "86904/86904 [==============================] - 12s 139us/step - loss: 0.0167 - mean_absolute_error: 0.0167 - val_loss: 0.0186 - val_mean_absolute_error: 0.0186\n",
      "Epoch 53/100\n",
      "86904/86904 [==============================] - 12s 138us/step - loss: 0.0167 - mean_absolute_error: 0.0167 - val_loss: 0.0186 - val_mean_absolute_error: 0.0186\n",
      "Epoch 54/100\n",
      "86904/86904 [==============================] - 14s 166us/step - loss: 0.0166 - mean_absolute_error: 0.0166 - val_loss: 0.0186 - val_mean_absolute_error: 0.0186\n",
      "Epoch 55/100\n",
      "86904/86904 [==============================] - 15s 168us/step - loss: 0.0166 - mean_absolute_error: 0.0166 - val_loss: 0.0185 - val_mean_absolute_error: 0.0185\n",
      "Epoch 56/100\n",
      "86904/86904 [==============================] - 14s 164us/step - loss: 0.0166 - mean_absolute_error: 0.0166 - val_loss: 0.0185 - val_mean_absolute_error: 0.0185\n",
      "Epoch 57/100\n",
      "86904/86904 [==============================] - 15s 168us/step - loss: 0.0166 - mean_absolute_error: 0.0166 - val_loss: 0.0185 - val_mean_absolute_error: 0.0185\n",
      "Epoch 58/100\n",
      "86904/86904 [==============================] - 14s 167us/step - loss: 0.0166 - mean_absolute_error: 0.0166 - val_loss: 0.0185 - val_mean_absolute_error: 0.0185\n",
      "Epoch 59/100\n",
      "86904/86904 [==============================] - 14s 166us/step - loss: 0.0166 - mean_absolute_error: 0.0166 - val_loss: 0.0185 - val_mean_absolute_error: 0.0185\n",
      "Epoch 60/100\n",
      "86904/86904 [==============================] - 14s 166us/step - loss: 0.0165 - mean_absolute_error: 0.0165 - val_loss: 0.0185 - val_mean_absolute_error: 0.0185\n",
      "Epoch 61/100\n",
      "86904/86904 [==============================] - 15s 167us/step - loss: 0.0165 - mean_absolute_error: 0.0165 - val_loss: 0.0185 - val_mean_absolute_error: 0.0185\n",
      "Epoch 62/100\n",
      "86904/86904 [==============================] - 14s 165us/step - loss: 0.0165 - mean_absolute_error: 0.0165 - val_loss: 0.0185 - val_mean_absolute_error: 0.0185\n",
      "Epoch 63/100\n",
      "86904/86904 [==============================] - 14s 167us/step - loss: 0.0165 - mean_absolute_error: 0.0165 - val_loss: 0.0185 - val_mean_absolute_error: 0.0185\n",
      "Epoch 64/100\n",
      "86904/86904 [==============================] - 12s 135us/step - loss: 0.0165 - mean_absolute_error: 0.0165 - val_loss: 0.0184 - val_mean_absolute_error: 0.0184\n",
      "Epoch 65/100\n",
      "86904/86904 [==============================] - 11s 129us/step - loss: 0.0165 - mean_absolute_error: 0.0165 - val_loss: 0.0185 - val_mean_absolute_error: 0.0185\n",
      "Epoch 66/100\n",
      "86904/86904 [==============================] - 12s 142us/step - loss: 0.0165 - mean_absolute_error: 0.0165 - val_loss: 0.0184 - val_mean_absolute_error: 0.0184\n",
      "Epoch 67/100\n",
      "86904/86904 [==============================] - 13s 145us/step - loss: 0.0165 - mean_absolute_error: 0.0165 - val_loss: 0.0184 - val_mean_absolute_error: 0.0184\n",
      "Epoch 68/100\n",
      "86904/86904 [==============================] - 13s 144us/step - loss: 0.0165 - mean_absolute_error: 0.0165 - val_loss: 0.0184 - val_mean_absolute_error: 0.0184\n",
      "Epoch 69/100\n",
      "86904/86904 [==============================] - 12s 142us/step - loss: 0.0164 - mean_absolute_error: 0.0164 - val_loss: 0.0184 - val_mean_absolute_error: 0.0184\n",
      "Epoch 70/100\n",
      "86904/86904 [==============================] - 12s 134us/step - loss: 0.0164 - mean_absolute_error: 0.0164 - val_loss: 0.0184 - val_mean_absolute_error: 0.0184\n",
      "Epoch 71/100\n",
      "86904/86904 [==============================] - 11s 125us/step - loss: 0.0164 - mean_absolute_error: 0.0164 - val_loss: 0.0184 - val_mean_absolute_error: 0.0184\n",
      "Epoch 72/100\n",
      "86904/86904 [==============================] - 13s 147us/step - loss: 0.0164 - mean_absolute_error: 0.0164 - val_loss: 0.0184 - val_mean_absolute_error: 0.0184\n",
      "Epoch 73/100\n",
      "86904/86904 [==============================] - 11s 130us/step - loss: 0.0164 - mean_absolute_error: 0.0164 - val_loss: 0.0184 - val_mean_absolute_error: 0.0184\n",
      "Epoch 74/100\n",
      "86904/86904 [==============================] - 13s 147us/step - loss: 0.0164 - mean_absolute_error: 0.0164 - val_loss: 0.0184 - val_mean_absolute_error: 0.0184\n",
      "Epoch 75/100\n",
      "86904/86904 [==============================] - 14s 167us/step - loss: 0.0164 - mean_absolute_error: 0.0164 - val_loss: 0.0184 - val_mean_absolute_error: 0.0184\n",
      "Epoch 76/100\n",
      "86904/86904 [==============================] - 14s 161us/step - loss: 0.0164 - mean_absolute_error: 0.0164 - val_loss: 0.0184 - val_mean_absolute_error: 0.0184\n",
      "Epoch 77/100\n",
      "86904/86904 [==============================] - 14s 161us/step - loss: 0.0164 - mean_absolute_error: 0.0164 - val_loss: 0.0184 - val_mean_absolute_error: 0.0184\n",
      "Epoch 78/100\n",
      "86904/86904 [==============================] - 13s 145us/step - loss: 0.0164 - mean_absolute_error: 0.0164 - val_loss: 0.0184 - val_mean_absolute_error: 0.0184\n",
      "Epoch 79/100\n",
      "86904/86904 [==============================] - 13s 144us/step - loss: 0.0163 - mean_absolute_error: 0.0163 - val_loss: 0.0184 - val_mean_absolute_error: 0.0184\n",
      "Epoch 80/100\n",
      "86904/86904 [==============================] - 14s 164us/step - loss: 0.0163 - mean_absolute_error: 0.0163 - val_loss: 0.0184 - val_mean_absolute_error: 0.0184\n",
      "Epoch 81/100\n",
      "86904/86904 [==============================] - 15s 168us/step - loss: 0.0163 - mean_absolute_error: 0.0163 - val_loss: 0.0184 - val_mean_absolute_error: 0.0184\n",
      "Epoch 82/100\n",
      "86904/86904 [==============================] - 14s 166us/step - loss: 0.0163 - mean_absolute_error: 0.0163 - val_loss: 0.0184 - val_mean_absolute_error: 0.0184\n",
      "Epoch 83/100\n",
      "86904/86904 [==============================] - 14s 167us/step - loss: 0.0163 - mean_absolute_error: 0.0163 - val_loss: 0.0183 - val_mean_absolute_error: 0.0183\n",
      "Epoch 84/100\n",
      "86904/86904 [==============================] - 15s 169us/step - loss: 0.0163 - mean_absolute_error: 0.0163 - val_loss: 0.0183 - val_mean_absolute_error: 0.0183\n",
      "Epoch 85/100\n",
      "86904/86904 [==============================] - 14s 165us/step - loss: 0.0163 - mean_absolute_error: 0.0163 - val_loss: 0.0183 - val_mean_absolute_error: 0.0183\n",
      "Epoch 86/100\n",
      "86904/86904 [==============================] - 13s 154us/step - loss: 0.0163 - mean_absolute_error: 0.0163 - val_loss: 0.0183 - val_mean_absolute_error: 0.0183\n",
      "Epoch 87/100\n",
      "86904/86904 [==============================] - 12s 132us/step - loss: 0.0163 - mean_absolute_error: 0.0163 - val_loss: 0.0183 - val_mean_absolute_error: 0.0183\n",
      "Epoch 88/100\n",
      "86904/86904 [==============================] - 14s 158us/step - loss: 0.0163 - mean_absolute_error: 0.0163 - val_loss: 0.0183 - val_mean_absolute_error: 0.0183\n",
      "Epoch 89/100\n",
      "86904/86904 [==============================] - 14s 161us/step - loss: 0.0163 - mean_absolute_error: 0.0163 - val_loss: 0.0183 - val_mean_absolute_error: 0.0183\n",
      "Epoch 90/100\n",
      "86904/86904 [==============================] - 14s 159us/step - loss: 0.0163 - mean_absolute_error: 0.0163 - val_loss: 0.0183 - val_mean_absolute_error: 0.0183\n",
      "Epoch 91/100\n",
      "86904/86904 [==============================] - 14s 164us/step - loss: 0.0163 - mean_absolute_error: 0.0163 - val_loss: 0.0183 - val_mean_absolute_error: 0.0183\n",
      "Epoch 92/100\n",
      "86904/86904 [==============================] - 14s 164us/step - loss: 0.0163 - mean_absolute_error: 0.0163 - val_loss: 0.0183 - val_mean_absolute_error: 0.0183\n",
      "Epoch 93/100\n",
      "86904/86904 [==============================] - 14s 161us/step - loss: 0.0163 - mean_absolute_error: 0.0163 - val_loss: 0.0183 - val_mean_absolute_error: 0.0183\n",
      "Epoch 94/100\n",
      "86904/86904 [==============================] - 13s 145us/step - loss: 0.0163 - mean_absolute_error: 0.0163 - val_loss: 0.0183 - val_mean_absolute_error: 0.0183\n",
      "Epoch 95/100\n"
     ]
    },
    {
     "name": "stdout",
     "output_type": "stream",
     "text": [
      "86904/86904 [==============================] - 13s 153us/step - loss: 0.0162 - mean_absolute_error: 0.0162 - val_loss: 0.0183 - val_mean_absolute_error: 0.0183\n",
      "Epoch 96/100\n",
      "86904/86904 [==============================] - 14s 166us/step - loss: 0.0162 - mean_absolute_error: 0.0162 - val_loss: 0.0183 - val_mean_absolute_error: 0.0183\n",
      "Epoch 97/100\n",
      "86904/86904 [==============================] - 14s 166us/step - loss: 0.0162 - mean_absolute_error: 0.0162 - val_loss: 0.0183 - val_mean_absolute_error: 0.0183\n",
      "Epoch 98/100\n",
      "86904/86904 [==============================] - 15s 168us/step - loss: 0.0162 - mean_absolute_error: 0.0162 - val_loss: 0.0183 - val_mean_absolute_error: 0.0183\n",
      "Epoch 99/100\n",
      "86904/86904 [==============================] - 14s 164us/step - loss: 0.0162 - mean_absolute_error: 0.0162 - val_loss: 0.0183 - val_mean_absolute_error: 0.0183\n",
      "Epoch 100/100\n",
      "86904/86904 [==============================] - 13s 153us/step - loss: 0.0162 - mean_absolute_error: 0.0162 - val_loss: 0.0183 - val_mean_absolute_error: 0.0183\n"
     ]
    }
   ],
   "source": [
    "# Fit\n",
    "%time history = model.fit(X_train, Y_train, batch_size=batch_size, epochs=epochs, verbose=1, validation_data=(X_test, Y_test))"
   ]
  },
  {
   "cell_type": "markdown",
   "metadata": {},
   "source": [
    "## Loss values during training procedure"
   ]
  },
  {
   "cell_type": "code",
   "execution_count": 49,
   "metadata": {},
   "outputs": [
    {
     "name": "stdout",
     "output_type": "stream",
     "text": [
      "val_mean_absolute_error\n"
     ]
    },
    {
     "data": {
      "image/png": "[encoded data removed]",
      "text/plain": [
       "<Figure size 432x288 with 1 Axes>"
      ]
     },
     "metadata": {},
     "output_type": "display_data"
    },
    {
     "name": "stdout",
     "output_type": "stream",
     "text": [
      "mean_absolute_error\n"
     ]
    },
    {
     "data": {
      "image/png": "[encoded data removed]",
      "text/plain": [
       "<Figure size 432x288 with 1 Axes>"
      ]
     },
     "metadata": {},
     "output_type": "display_data"
    }
   ],
   "source": [
    "# Plot metrics\n",
    "for k in history.history.keys():\n",
    "    if (\"mean_absolute_error\" not in k): continue\n",
    "    print(k)\n",
    "    plt.plot(history.history[k])\n",
    "    if (\"val\" in k):\n",
    "        plt.title(\"Validation error\")\n",
    "    else:\n",
    "        plt.title(\"Training error\")\n",
    "    plt.xlabel(\"Iteration\")\n",
    "    plt.ylabel(\"Mean absolute error\")\n",
    "    plt.tight_layout()\n",
    "    plt.savefig(\"images/CNN_\" + k + '.png', dpi=600, pad_inches=0)\n",
    "    plt.show()"
   ]
  },
  {
   "cell_type": "markdown",
   "metadata": {},
   "source": [
    "## Error computation\n",
    "* Root mean squared error and Mean absolute error\n",
    "* Compute an histogram of errors"
   ]
  },
  {
   "cell_type": "code",
   "execution_count": 50,
   "metadata": {},
   "outputs": [
    {
     "name": "stdout",
     "output_type": "stream",
     "text": [
      "MAE error: 0.01829270565610195\n",
      "RMSE error: 0.0344684860319947\n"
     ]
    }
   ],
   "source": [
    "MAE = []\n",
    "RMSE = []\n",
    "\n",
    "for X_, Y_ in zip(X_test, Y_test): # Validation data\n",
    "    # Predict and calculate mean absolute error\n",
    "    mae = model.evaluate(np.array([X_]), np.array([Y_]), verbose=0)[0]\n",
    "    \n",
    "    Y_pred = model.predict(np.array([X_]))[0]\n",
    "    rmse = sqrt(mean_squared_error(Y_pred, Y_))\n",
    "\n",
    "    MAE.append(mae)\n",
    "    RMSE.append(rmse)\n",
    "    \n",
    "print( \"MAE error:\", np.array(MAE).mean() )\n",
    "print( \"RMSE error:\", np.array(RMSE).mean() )"
   ]
  },
  {
   "cell_type": "markdown",
   "metadata": {},
   "source": [
    "### Mean absolute error"
   ]
  },
  {
   "cell_type": "code",
   "execution_count": 51,
   "metadata": {},
   "outputs": [
    {
     "data": {
      "image/png": "[encoded data removed]",
      "text/plain": [
       "<Figure size 432x288 with 1 Axes>"
      ]
     },
     "metadata": {},
     "output_type": "display_data"
    }
   ],
   "source": [
    "s_mae = pd.Series(np.array(MAE))\n",
    "s_mae.hist()\n",
    "plt.title(\"Histogram of mean absolute error\")\n",
    "plt.xlabel('Mean absolute error')\n",
    "plt.ylabel('Frequency')\n",
    "plt.tight_layout()\n",
    "plt.savefig(\"images/CNN_MAE.png\", dpi=600, pad_inches=0)"
   ]
  },
  {
   "cell_type": "markdown",
   "metadata": {},
   "source": [
    "### Root mean squared error"
   ]
  },
  {
   "cell_type": "code",
   "execution_count": 52,
   "metadata": {},
   "outputs": [
    {
     "data": {
      "image/png": "[encoded data removed]",
      "text/plain": [
       "<Figure size 432x288 with 1 Axes>"
      ]
     },
     "metadata": {},
     "output_type": "display_data"
    }
   ],
   "source": [
    "s_rmse = pd.Series(np.array(RMSE))\n",
    "s_rmse.hist()\n",
    "plt.title(\"Histogram of root mean squared error\")\n",
    "plt.xlabel('Root mean squared error')\n",
    "plt.ylabel('Frequency')\n",
    "plt.tight_layout()\n",
    "plt.savefig(\"images/CNN_RMSE.png\", dpi=600, pad_inches=0)"
   ]
  }
 ],
 "metadata": {
  "kernelspec": {
   "display_name": "Python 3",
   "language": "python",
   "name": "python3"
  },
  "language_info": {
   "codemirror_mode": {
    "name": "ipython",
    "version": 3
   },
   "file_extension": ".py",
   "mimetype": "text/x-python",
   "name": "python",
   "nbconvert_exporter": "python",
   "pygments_lexer": "ipython3",
   "version": "3.6.5"
  }
 },
 "nbformat": 4,
 "nbformat_minor": 2
}
